{
 "cells": [
  {
   "cell_type": "markdown",
   "metadata": {},
   "source": [
    "# Problem Satement : To Perform SVM, RF, Boosting, KNN On EEG Emotion Dataset"
   ]
  },
  {
   "cell_type": "markdown",
   "metadata": {},
   "source": [
    "## 1.1 Importing Basic Libraries"
   ]
  },
  {
   "cell_type": "code",
   "execution_count": 1,
   "metadata": {},
   "outputs": [],
   "source": [
    "import pandas as pd\n",
    "import numpy as np\n",
    "import seaborn as sns\n",
    "import matplotlib.pyplot as plt\n",
    " "
   ]
  },
  {
   "cell_type": "markdown",
   "metadata": {},
   "source": [
    "# 1.1.1 DatsSet Information\n",
    "\n",
    "## <a id='var_des'>2.2. Variables description</a>\n",
    "\n",
    "* `trial number`: number of the trial (obviously) \n",
    "* `sensor postition`:  position of electrode placed on subject's scalp (based on International 10-20 system)\n",
    "<img src=\"https://i.ibb.co/M2GRQNz/670px-International-10-20-system-for-EEG-MCN-svg.png\" alt=\"670px-International-10-20-system-for-EEG-MCN-svg\" border=\"0\">\n",
    "* `sample num`: 0-255\n",
    "* `sensor value`: value in microvolts \n",
    "* `subject identifier`: `a` - Alcoholic; `c` - Control\n",
    "* `matching condition`: \n",
    " * `S1 obj` - a single object shown; \n",
    " * `S2 match` - object 2 shown in a matching condition (S1 was identical to S2), \n",
    " * `S2 nomatch` - object 2 shown in a non matching condition (S1 differed from S2)\n",
    "* `channel`: channel number (0-63). Basically, it's the same as `sensor position` column, so one of these columns can be dropped\n",
    "* `name`: a serial code assigned to each subject\n",
    "* `time`: inverse of `sample num` measured in seconds\n",
    "\n",
    "\n",
    "I have changed some `sensor position`s so they match the basics for head topography visualization. Also, I have removed those positions which equal to **X**, **Y** and **ND** since I couldnt figure out which regions they respond to."
   ]
  },
  {
   "cell_type": "markdown",
   "metadata": {},
   "source": [
    "## 1.2 Reading Dataset"
   ]
  },
  {
   "cell_type": "markdown",
   "metadata": {},
   "source": []
  },
  {
   "cell_type": "code",
   "execution_count": 2,
   "metadata": {},
   "outputs": [
    {
     "data": {
      "text/html": [
       "<div>\n",
       "<style scoped>\n",
       "    .dataframe tbody tr th:only-of-type {\n",
       "        vertical-align: middle;\n",
       "    }\n",
       "\n",
       "    .dataframe tbody tr th {\n",
       "        vertical-align: top;\n",
       "    }\n",
       "\n",
       "    .dataframe thead th {\n",
       "        text-align: right;\n",
       "    }\n",
       "</style>\n",
       "<table border=\"1\" class=\"dataframe\">\n",
       "  <thead>\n",
       "    <tr style=\"text-align: right;\">\n",
       "      <th></th>\n",
       "      <th>video_id</th>\n",
       "      <th>subject_id</th>\n",
       "      <th>EEG.AF3</th>\n",
       "      <th>EEG.F7</th>\n",
       "      <th>EEG.F3</th>\n",
       "      <th>EEG.FC5</th>\n",
       "      <th>EEG.T7</th>\n",
       "      <th>EEG.P7</th>\n",
       "      <th>EEG.O1</th>\n",
       "      <th>EEG.O2</th>\n",
       "      <th>...</th>\n",
       "      <th>POW.F8.Alpha</th>\n",
       "      <th>POW.F8.BetaL</th>\n",
       "      <th>POW.F8.BetaH</th>\n",
       "      <th>POW.F8.Gamma</th>\n",
       "      <th>POW.AF4.Theta</th>\n",
       "      <th>POW.AF4.Alpha</th>\n",
       "      <th>POW.AF4.BetaL</th>\n",
       "      <th>POW.AF4.BetaH</th>\n",
       "      <th>POW.AF4.Gamma</th>\n",
       "      <th>subject_understood</th>\n",
       "    </tr>\n",
       "  </thead>\n",
       "  <tbody>\n",
       "    <tr>\n",
       "      <th>0</th>\n",
       "      <td>0</td>\n",
       "      <td>0</td>\n",
       "      <td>4210.641113</td>\n",
       "      <td>4179.102539</td>\n",
       "      <td>4287.948730</td>\n",
       "      <td>4235.384766</td>\n",
       "      <td>4207.948730</td>\n",
       "      <td>4165.000000</td>\n",
       "      <td>4135.897461</td>\n",
       "      <td>4170.000000</td>\n",
       "      <td>...</td>\n",
       "      <td>1.583895</td>\n",
       "      <td>0.504567</td>\n",
       "      <td>0.471979</td>\n",
       "      <td>0.138717</td>\n",
       "      <td>1.801014</td>\n",
       "      <td>1.504794</td>\n",
       "      <td>0.258570</td>\n",
       "      <td>0.435745</td>\n",
       "      <td>0.469483</td>\n",
       "      <td>0</td>\n",
       "    </tr>\n",
       "    <tr>\n",
       "      <th>1</th>\n",
       "      <td>0</td>\n",
       "      <td>0</td>\n",
       "      <td>4201.025879</td>\n",
       "      <td>4188.717773</td>\n",
       "      <td>4280.128418</td>\n",
       "      <td>4236.922852</td>\n",
       "      <td>4209.615234</td>\n",
       "      <td>4152.436035</td>\n",
       "      <td>4130.128418</td>\n",
       "      <td>4149.487305</td>\n",
       "      <td>...</td>\n",
       "      <td>1.709560</td>\n",
       "      <td>0.606587</td>\n",
       "      <td>0.527616</td>\n",
       "      <td>0.155580</td>\n",
       "      <td>1.859177</td>\n",
       "      <td>1.379617</td>\n",
       "      <td>0.317579</td>\n",
       "      <td>0.468416</td>\n",
       "      <td>0.642560</td>\n",
       "      <td>0</td>\n",
       "    </tr>\n",
       "    <tr>\n",
       "      <th>2</th>\n",
       "      <td>0</td>\n",
       "      <td>0</td>\n",
       "      <td>4203.205078</td>\n",
       "      <td>4182.820313</td>\n",
       "      <td>4282.820313</td>\n",
       "      <td>4231.025879</td>\n",
       "      <td>4207.820313</td>\n",
       "      <td>4172.436035</td>\n",
       "      <td>4131.538574</td>\n",
       "      <td>4147.948730</td>\n",
       "      <td>...</td>\n",
       "      <td>1.873591</td>\n",
       "      <td>0.795834</td>\n",
       "      <td>0.565414</td>\n",
       "      <td>0.170816</td>\n",
       "      <td>2.027946</td>\n",
       "      <td>1.283876</td>\n",
       "      <td>0.441925</td>\n",
       "      <td>0.494701</td>\n",
       "      <td>0.798197</td>\n",
       "      <td>0</td>\n",
       "    </tr>\n",
       "    <tr>\n",
       "      <th>3</th>\n",
       "      <td>0</td>\n",
       "      <td>0</td>\n",
       "      <td>4186.538574</td>\n",
       "      <td>4168.717773</td>\n",
       "      <td>4266.794922</td>\n",
       "      <td>4229.230957</td>\n",
       "      <td>4202.179688</td>\n",
       "      <td>4155.384766</td>\n",
       "      <td>4128.333496</td>\n",
       "      <td>4151.666504</td>\n",
       "      <td>...</td>\n",
       "      <td>2.110017</td>\n",
       "      <td>1.021118</td>\n",
       "      <td>0.579656</td>\n",
       "      <td>0.180056</td>\n",
       "      <td>2.265952</td>\n",
       "      <td>1.306188</td>\n",
       "      <td>0.616881</td>\n",
       "      <td>0.506062</td>\n",
       "      <td>0.886495</td>\n",
       "      <td>0</td>\n",
       "    </tr>\n",
       "    <tr>\n",
       "      <th>4</th>\n",
       "      <td>0</td>\n",
       "      <td>0</td>\n",
       "      <td>4232.436035</td>\n",
       "      <td>4216.922852</td>\n",
       "      <td>4306.922852</td>\n",
       "      <td>4270.769043</td>\n",
       "      <td>4217.436035</td>\n",
       "      <td>4166.538574</td>\n",
       "      <td>4155.897461</td>\n",
       "      <td>4162.820313</td>\n",
       "      <td>...</td>\n",
       "      <td>2.462552</td>\n",
       "      <td>1.230984</td>\n",
       "      <td>0.573620</td>\n",
       "      <td>0.181081</td>\n",
       "      <td>2.461205</td>\n",
       "      <td>1.522420</td>\n",
       "      <td>0.822598</td>\n",
       "      <td>0.498361</td>\n",
       "      <td>0.874455</td>\n",
       "      <td>0</td>\n",
       "    </tr>\n",
       "  </tbody>\n",
       "</table>\n",
       "<p>5 rows × 87 columns</p>\n",
       "</div>"
      ],
      "text/plain": [
       "   video_id  subject_id      EEG.AF3       EEG.F7       EEG.F3      EEG.FC5  \\\n",
       "0         0           0  4210.641113  4179.102539  4287.948730  4235.384766   \n",
       "1         0           0  4201.025879  4188.717773  4280.128418  4236.922852   \n",
       "2         0           0  4203.205078  4182.820313  4282.820313  4231.025879   \n",
       "3         0           0  4186.538574  4168.717773  4266.794922  4229.230957   \n",
       "4         0           0  4232.436035  4216.922852  4306.922852  4270.769043   \n",
       "\n",
       "        EEG.T7       EEG.P7       EEG.O1       EEG.O2  ...  POW.F8.Alpha  \\\n",
       "0  4207.948730  4165.000000  4135.897461  4170.000000  ...      1.583895   \n",
       "1  4209.615234  4152.436035  4130.128418  4149.487305  ...      1.709560   \n",
       "2  4207.820313  4172.436035  4131.538574  4147.948730  ...      1.873591   \n",
       "3  4202.179688  4155.384766  4128.333496  4151.666504  ...      2.110017   \n",
       "4  4217.436035  4166.538574  4155.897461  4162.820313  ...      2.462552   \n",
       "\n",
       "   POW.F8.BetaL  POW.F8.BetaH  POW.F8.Gamma  POW.AF4.Theta  POW.AF4.Alpha  \\\n",
       "0      0.504567      0.471979      0.138717       1.801014       1.504794   \n",
       "1      0.606587      0.527616      0.155580       1.859177       1.379617   \n",
       "2      0.795834      0.565414      0.170816       2.027946       1.283876   \n",
       "3      1.021118      0.579656      0.180056       2.265952       1.306188   \n",
       "4      1.230984      0.573620      0.181081       2.461205       1.522420   \n",
       "\n",
       "   POW.AF4.BetaL  POW.AF4.BetaH  POW.AF4.Gamma  subject_understood  \n",
       "0       0.258570       0.435745       0.469483                   0  \n",
       "1       0.317579       0.468416       0.642560                   0  \n",
       "2       0.441925       0.494701       0.798197                   0  \n",
       "3       0.616881       0.506062       0.886495                   0  \n",
       "4       0.822598       0.498361       0.874455                   0  \n",
       "\n",
       "[5 rows x 87 columns]"
      ]
     },
     "execution_count": 2,
     "metadata": {},
     "output_type": "execute_result"
    }
   ],
   "source": [
    "df=pd.read_csv(\"EEG_data.csv\")\n",
    "df.head()"
   ]
  },
  {
   "cell_type": "code",
   "execution_count": 3,
   "metadata": {},
   "outputs": [
    {
     "data": {
      "text/plain": [
       "Index(['video_id', 'subject_id', 'EEG.AF3', 'EEG.F7', 'EEG.F3', 'EEG.FC5',\n",
       "       'EEG.T7', 'EEG.P7', 'EEG.O1', 'EEG.O2', 'EEG.P8', 'EEG.T8', 'EEG.FC6',\n",
       "       'EEG.F4', 'EEG.F8', 'EEG.AF4', 'POW.AF3.Theta', 'POW.AF3.Alpha',\n",
       "       'POW.AF3.BetaL', 'POW.AF3.BetaH', 'POW.AF3.Gamma', 'POW.F7.Theta',\n",
       "       'POW.F7.Alpha', 'POW.F7.BetaL', 'POW.F7.BetaH', 'POW.F7.Gamma',\n",
       "       'POW.F3.Theta', 'POW.F3.Alpha', 'POW.F3.BetaL', 'POW.F3.BetaH',\n",
       "       'POW.F3.Gamma', 'POW.FC5.Theta', 'POW.FC5.Alpha', 'POW.FC5.BetaL',\n",
       "       'POW.FC5.BetaH', 'POW.FC5.Gamma', 'POW.T7.Theta', 'POW.T7.Alpha',\n",
       "       'POW.T7.BetaL', 'POW.T7.BetaH', 'POW.T7.Gamma', 'POW.P7.Theta',\n",
       "       'POW.P7.Alpha', 'POW.P7.BetaL', 'POW.P7.BetaH', 'POW.P7.Gamma',\n",
       "       'POW.O1.Theta', 'POW.O1.Alpha', 'POW.O1.BetaL', 'POW.O1.BetaH',\n",
       "       'POW.O1.Gamma', 'POW.O2.Theta', 'POW.O2.Alpha', 'POW.O2.BetaL',\n",
       "       'POW.O2.BetaH', 'POW.O2.Gamma', 'POW.P8.Theta', 'POW.P8.Alpha',\n",
       "       'POW.P8.BetaL', 'POW.P8.BetaH', 'POW.P8.Gamma', 'POW.T8.Theta',\n",
       "       'POW.T8.Alpha', 'POW.T8.BetaL', 'POW.T8.BetaH', 'POW.T8.Gamma',\n",
       "       'POW.FC6.Theta', 'POW.FC6.Alpha', 'POW.FC6.BetaL', 'POW.FC6.BetaH',\n",
       "       'POW.FC6.Gamma', 'POW.F4.Theta', 'POW.F4.Alpha', 'POW.F4.BetaL',\n",
       "       'POW.F4.BetaH', 'POW.F4.Gamma', 'POW.F8.Theta', 'POW.F8.Alpha',\n",
       "       'POW.F8.BetaL', 'POW.F8.BetaH', 'POW.F8.Gamma', 'POW.AF4.Theta',\n",
       "       'POW.AF4.Alpha', 'POW.AF4.BetaL', 'POW.AF4.BetaH', 'POW.AF4.Gamma',\n",
       "       'subject_understood'],\n",
       "      dtype='object')"
      ]
     },
     "execution_count": 3,
     "metadata": {},
     "output_type": "execute_result"
    }
   ],
   "source": [
    "df.columns"
   ]
  },
  {
   "cell_type": "code",
   "execution_count": 4,
   "metadata": {},
   "outputs": [
    {
     "data": {
      "text/plain": [
       "(68831, 87)"
      ]
     },
     "execution_count": 4,
     "metadata": {},
     "output_type": "execute_result"
    }
   ],
   "source": [
    "df.shape"
   ]
  },
  {
   "cell_type": "markdown",
   "metadata": {},
   "source": [
    "**Here Observation=>68831, Feature=> 87**"
   ]
  },
  {
   "cell_type": "code",
   "execution_count": 5,
   "metadata": {},
   "outputs": [
    {
     "name": "stdout",
     "output_type": "stream",
     "text": [
      "<class 'pandas.core.frame.DataFrame'>\n",
      "RangeIndex: 68831 entries, 0 to 68830\n",
      "Data columns (total 87 columns):\n",
      " #   Column              Non-Null Count  Dtype  \n",
      "---  ------              --------------  -----  \n",
      " 0   video_id            68831 non-null  int64  \n",
      " 1   subject_id          68831 non-null  int64  \n",
      " 2   EEG.AF3             68831 non-null  float64\n",
      " 3   EEG.F7              68831 non-null  float64\n",
      " 4   EEG.F3              68831 non-null  float64\n",
      " 5   EEG.FC5             68831 non-null  float64\n",
      " 6   EEG.T7              68831 non-null  float64\n",
      " 7   EEG.P7              68831 non-null  float64\n",
      " 8   EEG.O1              68831 non-null  float64\n",
      " 9   EEG.O2              68831 non-null  float64\n",
      " 10  EEG.P8              68831 non-null  float64\n",
      " 11  EEG.T8              68831 non-null  float64\n",
      " 12  EEG.FC6             68831 non-null  float64\n",
      " 13  EEG.F4              68831 non-null  float64\n",
      " 14  EEG.F8              68831 non-null  float64\n",
      " 15  EEG.AF4             68831 non-null  float64\n",
      " 16  POW.AF3.Theta       68831 non-null  float64\n",
      " 17  POW.AF3.Alpha       68831 non-null  float64\n",
      " 18  POW.AF3.BetaL       68831 non-null  float64\n",
      " 19  POW.AF3.BetaH       68831 non-null  float64\n",
      " 20  POW.AF3.Gamma       68831 non-null  float64\n",
      " 21  POW.F7.Theta        68831 non-null  float64\n",
      " 22  POW.F7.Alpha        68831 non-null  float64\n",
      " 23  POW.F7.BetaL        68831 non-null  float64\n",
      " 24  POW.F7.BetaH        68831 non-null  float64\n",
      " 25  POW.F7.Gamma        68831 non-null  float64\n",
      " 26  POW.F3.Theta        68831 non-null  float64\n",
      " 27  POW.F3.Alpha        68831 non-null  float64\n",
      " 28  POW.F3.BetaL        68831 non-null  float64\n",
      " 29  POW.F3.BetaH        68831 non-null  float64\n",
      " 30  POW.F3.Gamma        68831 non-null  float64\n",
      " 31  POW.FC5.Theta       68831 non-null  float64\n",
      " 32  POW.FC5.Alpha       68831 non-null  float64\n",
      " 33  POW.FC5.BetaL       68831 non-null  float64\n",
      " 34  POW.FC5.BetaH       68831 non-null  float64\n",
      " 35  POW.FC5.Gamma       68831 non-null  float64\n",
      " 36  POW.T7.Theta        68831 non-null  float64\n",
      " 37  POW.T7.Alpha        68831 non-null  float64\n",
      " 38  POW.T7.BetaL        68831 non-null  float64\n",
      " 39  POW.T7.BetaH        68831 non-null  float64\n",
      " 40  POW.T7.Gamma        68831 non-null  float64\n",
      " 41  POW.P7.Theta        68831 non-null  float64\n",
      " 42  POW.P7.Alpha        68831 non-null  float64\n",
      " 43  POW.P7.BetaL        68831 non-null  float64\n",
      " 44  POW.P7.BetaH        68831 non-null  float64\n",
      " 45  POW.P7.Gamma        68831 non-null  float64\n",
      " 46  POW.O1.Theta        68831 non-null  float64\n",
      " 47  POW.O1.Alpha        68831 non-null  float64\n",
      " 48  POW.O1.BetaL        68831 non-null  float64\n",
      " 49  POW.O1.BetaH        68831 non-null  float64\n",
      " 50  POW.O1.Gamma        68831 non-null  float64\n",
      " 51  POW.O2.Theta        68831 non-null  float64\n",
      " 52  POW.O2.Alpha        68831 non-null  float64\n",
      " 53  POW.O2.BetaL        68831 non-null  float64\n",
      " 54  POW.O2.BetaH        68831 non-null  float64\n",
      " 55  POW.O2.Gamma        68831 non-null  float64\n",
      " 56  POW.P8.Theta        68831 non-null  float64\n",
      " 57  POW.P8.Alpha        68831 non-null  float64\n",
      " 58  POW.P8.BetaL        68831 non-null  float64\n",
      " 59  POW.P8.BetaH        68831 non-null  float64\n",
      " 60  POW.P8.Gamma        68831 non-null  float64\n",
      " 61  POW.T8.Theta        68831 non-null  float64\n",
      " 62  POW.T8.Alpha        68831 non-null  float64\n",
      " 63  POW.T8.BetaL        68831 non-null  float64\n",
      " 64  POW.T8.BetaH        68831 non-null  float64\n",
      " 65  POW.T8.Gamma        68831 non-null  float64\n",
      " 66  POW.FC6.Theta       68831 non-null  float64\n",
      " 67  POW.FC6.Alpha       68831 non-null  float64\n",
      " 68  POW.FC6.BetaL       68831 non-null  float64\n",
      " 69  POW.FC6.BetaH       68831 non-null  float64\n",
      " 70  POW.FC6.Gamma       68831 non-null  float64\n",
      " 71  POW.F4.Theta        68831 non-null  float64\n",
      " 72  POW.F4.Alpha        68831 non-null  float64\n",
      " 73  POW.F4.BetaL        68831 non-null  float64\n",
      " 74  POW.F4.BetaH        68831 non-null  float64\n",
      " 75  POW.F4.Gamma        68831 non-null  float64\n",
      " 76  POW.F8.Theta        68831 non-null  float64\n",
      " 77  POW.F8.Alpha        68831 non-null  float64\n",
      " 78  POW.F8.BetaL        68831 non-null  float64\n",
      " 79  POW.F8.BetaH        68831 non-null  float64\n",
      " 80  POW.F8.Gamma        68831 non-null  float64\n",
      " 81  POW.AF4.Theta       68831 non-null  float64\n",
      " 82  POW.AF4.Alpha       68831 non-null  float64\n",
      " 83  POW.AF4.BetaL       68831 non-null  float64\n",
      " 84  POW.AF4.BetaH       68831 non-null  float64\n",
      " 85  POW.AF4.Gamma       68831 non-null  float64\n",
      " 86  subject_understood  68831 non-null  int64  \n",
      "dtypes: float64(84), int64(3)\n",
      "memory usage: 45.7 MB\n"
     ]
    }
   ],
   "source": [
    "df.info()"
   ]
  },
  {
   "cell_type": "markdown",
   "metadata": {},
   "source": [
    "* **All Feature is numeric**"
   ]
  },
  {
   "cell_type": "code",
   "execution_count": 6,
   "metadata": {},
   "outputs": [
    {
     "data": {
      "text/html": [
       "<div>\n",
       "<style scoped>\n",
       "    .dataframe tbody tr th:only-of-type {\n",
       "        vertical-align: middle;\n",
       "    }\n",
       "\n",
       "    .dataframe tbody tr th {\n",
       "        vertical-align: top;\n",
       "    }\n",
       "\n",
       "    .dataframe thead th {\n",
       "        text-align: right;\n",
       "    }\n",
       "</style>\n",
       "<table border=\"1\" class=\"dataframe\">\n",
       "  <thead>\n",
       "    <tr style=\"text-align: right;\">\n",
       "      <th></th>\n",
       "      <th>video_id</th>\n",
       "      <th>subject_id</th>\n",
       "      <th>EEG.AF3</th>\n",
       "      <th>EEG.F7</th>\n",
       "      <th>EEG.F3</th>\n",
       "      <th>EEG.FC5</th>\n",
       "      <th>EEG.T7</th>\n",
       "      <th>EEG.P7</th>\n",
       "      <th>EEG.O1</th>\n",
       "      <th>EEG.O2</th>\n",
       "      <th>...</th>\n",
       "      <th>POW.F8.Alpha</th>\n",
       "      <th>POW.F8.BetaL</th>\n",
       "      <th>POW.F8.BetaH</th>\n",
       "      <th>POW.F8.Gamma</th>\n",
       "      <th>POW.AF4.Theta</th>\n",
       "      <th>POW.AF4.Alpha</th>\n",
       "      <th>POW.AF4.BetaL</th>\n",
       "      <th>POW.AF4.BetaH</th>\n",
       "      <th>POW.AF4.Gamma</th>\n",
       "      <th>subject_understood</th>\n",
       "    </tr>\n",
       "  </thead>\n",
       "  <tbody>\n",
       "    <tr>\n",
       "      <th>count</th>\n",
       "      <td>68831.000000</td>\n",
       "      <td>68831.000000</td>\n",
       "      <td>68831.000000</td>\n",
       "      <td>68831.000000</td>\n",
       "      <td>68831.000000</td>\n",
       "      <td>68831.000000</td>\n",
       "      <td>68831.000000</td>\n",
       "      <td>68831.000000</td>\n",
       "      <td>68831.000000</td>\n",
       "      <td>68831.000000</td>\n",
       "      <td>...</td>\n",
       "      <td>68831.000000</td>\n",
       "      <td>68831.000000</td>\n",
       "      <td>68831.000000</td>\n",
       "      <td>68831.000000</td>\n",
       "      <td>68831.000000</td>\n",
       "      <td>68831.000000</td>\n",
       "      <td>68831.000000</td>\n",
       "      <td>68831.000000</td>\n",
       "      <td>68831.000000</td>\n",
       "      <td>68831.000000</td>\n",
       "    </tr>\n",
       "    <tr>\n",
       "      <th>mean</th>\n",
       "      <td>5.624297</td>\n",
       "      <td>3.710828</td>\n",
       "      <td>4276.496212</td>\n",
       "      <td>4257.994590</td>\n",
       "      <td>4302.803482</td>\n",
       "      <td>4292.027479</td>\n",
       "      <td>4302.093465</td>\n",
       "      <td>4243.397476</td>\n",
       "      <td>4231.846947</td>\n",
       "      <td>4240.153361</td>\n",
       "      <td>...</td>\n",
       "      <td>5.386578</td>\n",
       "      <td>2.847343</td>\n",
       "      <td>1.356892</td>\n",
       "      <td>0.770303</td>\n",
       "      <td>22.591861</td>\n",
       "      <td>8.133554</td>\n",
       "      <td>3.861532</td>\n",
       "      <td>1.520038</td>\n",
       "      <td>0.697575</td>\n",
       "      <td>0.789906</td>\n",
       "    </tr>\n",
       "    <tr>\n",
       "      <th>std</th>\n",
       "      <td>2.215993</td>\n",
       "      <td>1.828410</td>\n",
       "      <td>115.584631</td>\n",
       "      <td>140.884855</td>\n",
       "      <td>113.720961</td>\n",
       "      <td>135.578849</td>\n",
       "      <td>117.727171</td>\n",
       "      <td>118.189886</td>\n",
       "      <td>115.590762</td>\n",
       "      <td>137.366806</td>\n",
       "      <td>...</td>\n",
       "      <td>42.886793</td>\n",
       "      <td>36.480798</td>\n",
       "      <td>17.930204</td>\n",
       "      <td>8.991064</td>\n",
       "      <td>150.716768</td>\n",
       "      <td>51.722390</td>\n",
       "      <td>35.243356</td>\n",
       "      <td>13.153730</td>\n",
       "      <td>3.937423</td>\n",
       "      <td>0.407378</td>\n",
       "    </tr>\n",
       "    <tr>\n",
       "      <th>min</th>\n",
       "      <td>0.000000</td>\n",
       "      <td>0.000000</td>\n",
       "      <td>1030.769287</td>\n",
       "      <td>805.384644</td>\n",
       "      <td>1320.769287</td>\n",
       "      <td>806.538452</td>\n",
       "      <td>1904.487183</td>\n",
       "      <td>1710.769287</td>\n",
       "      <td>1794.871826</td>\n",
       "      <td>1466.538452</td>\n",
       "      <td>...</td>\n",
       "      <td>0.051299</td>\n",
       "      <td>0.036999</td>\n",
       "      <td>0.062924</td>\n",
       "      <td>0.043833</td>\n",
       "      <td>0.195020</td>\n",
       "      <td>0.077566</td>\n",
       "      <td>0.041230</td>\n",
       "      <td>0.056951</td>\n",
       "      <td>0.035907</td>\n",
       "      <td>0.000000</td>\n",
       "    </tr>\n",
       "    <tr>\n",
       "      <th>25%</th>\n",
       "      <td>5.000000</td>\n",
       "      <td>3.000000</td>\n",
       "      <td>4258.461426</td>\n",
       "      <td>4236.410156</td>\n",
       "      <td>4283.205078</td>\n",
       "      <td>4273.077148</td>\n",
       "      <td>4282.436035</td>\n",
       "      <td>4220.769043</td>\n",
       "      <td>4211.602539</td>\n",
       "      <td>4218.205078</td>\n",
       "      <td>...</td>\n",
       "      <td>1.093447</td>\n",
       "      <td>0.619023</td>\n",
       "      <td>0.340121</td>\n",
       "      <td>0.166746</td>\n",
       "      <td>1.840644</td>\n",
       "      <td>0.997642</td>\n",
       "      <td>0.511406</td>\n",
       "      <td>0.284404</td>\n",
       "      <td>0.139540</td>\n",
       "      <td>1.000000</td>\n",
       "    </tr>\n",
       "    <tr>\n",
       "      <th>50%</th>\n",
       "      <td>6.000000</td>\n",
       "      <td>4.000000</td>\n",
       "      <td>4287.307617</td>\n",
       "      <td>4266.538574</td>\n",
       "      <td>4305.897461</td>\n",
       "      <td>4297.436035</td>\n",
       "      <td>4312.179688</td>\n",
       "      <td>4253.846191</td>\n",
       "      <td>4244.487305</td>\n",
       "      <td>4252.948730</td>\n",
       "      <td>...</td>\n",
       "      <td>1.921246</td>\n",
       "      <td>1.032671</td>\n",
       "      <td>0.612935</td>\n",
       "      <td>0.366483</td>\n",
       "      <td>3.317688</td>\n",
       "      <td>1.679386</td>\n",
       "      <td>0.833078</td>\n",
       "      <td>0.472978</td>\n",
       "      <td>0.262676</td>\n",
       "      <td>1.000000</td>\n",
       "    </tr>\n",
       "    <tr>\n",
       "      <th>75%</th>\n",
       "      <td>6.000000</td>\n",
       "      <td>4.000000</td>\n",
       "      <td>4311.153809</td>\n",
       "      <td>4296.153809</td>\n",
       "      <td>4327.692383</td>\n",
       "      <td>4322.563965</td>\n",
       "      <td>4342.179688</td>\n",
       "      <td>4282.820313</td>\n",
       "      <td>4271.794922</td>\n",
       "      <td>4279.615234</td>\n",
       "      <td>...</td>\n",
       "      <td>3.587066</td>\n",
       "      <td>1.850553</td>\n",
       "      <td>1.076909</td>\n",
       "      <td>0.708885</td>\n",
       "      <td>7.129672</td>\n",
       "      <td>3.035433</td>\n",
       "      <td>1.464920</td>\n",
       "      <td>0.837565</td>\n",
       "      <td>0.516598</td>\n",
       "      <td>1.000000</td>\n",
       "    </tr>\n",
       "    <tr>\n",
       "      <th>max</th>\n",
       "      <td>10.000000</td>\n",
       "      <td>7.000000</td>\n",
       "      <td>6238.077148</td>\n",
       "      <td>7599.615234</td>\n",
       "      <td>6291.794922</td>\n",
       "      <td>7600.128418</td>\n",
       "      <td>7599.615234</td>\n",
       "      <td>6695.641113</td>\n",
       "      <td>7525.128418</td>\n",
       "      <td>7611.025879</td>\n",
       "      <td>...</td>\n",
       "      <td>3825.365967</td>\n",
       "      <td>3803.180664</td>\n",
       "      <td>2010.126343</td>\n",
       "      <td>966.228027</td>\n",
       "      <td>8159.436035</td>\n",
       "      <td>3092.790283</td>\n",
       "      <td>3372.114746</td>\n",
       "      <td>1347.074341</td>\n",
       "      <td>331.578979</td>\n",
       "      <td>1.000000</td>\n",
       "    </tr>\n",
       "  </tbody>\n",
       "</table>\n",
       "<p>8 rows × 87 columns</p>\n",
       "</div>"
      ],
      "text/plain": [
       "           video_id    subject_id       EEG.AF3        EEG.F7        EEG.F3  \\\n",
       "count  68831.000000  68831.000000  68831.000000  68831.000000  68831.000000   \n",
       "mean       5.624297      3.710828   4276.496212   4257.994590   4302.803482   \n",
       "std        2.215993      1.828410    115.584631    140.884855    113.720961   \n",
       "min        0.000000      0.000000   1030.769287    805.384644   1320.769287   \n",
       "25%        5.000000      3.000000   4258.461426   4236.410156   4283.205078   \n",
       "50%        6.000000      4.000000   4287.307617   4266.538574   4305.897461   \n",
       "75%        6.000000      4.000000   4311.153809   4296.153809   4327.692383   \n",
       "max       10.000000      7.000000   6238.077148   7599.615234   6291.794922   \n",
       "\n",
       "            EEG.FC5        EEG.T7        EEG.P7        EEG.O1        EEG.O2  \\\n",
       "count  68831.000000  68831.000000  68831.000000  68831.000000  68831.000000   \n",
       "mean    4292.027479   4302.093465   4243.397476   4231.846947   4240.153361   \n",
       "std      135.578849    117.727171    118.189886    115.590762    137.366806   \n",
       "min      806.538452   1904.487183   1710.769287   1794.871826   1466.538452   \n",
       "25%     4273.077148   4282.436035   4220.769043   4211.602539   4218.205078   \n",
       "50%     4297.436035   4312.179688   4253.846191   4244.487305   4252.948730   \n",
       "75%     4322.563965   4342.179688   4282.820313   4271.794922   4279.615234   \n",
       "max     7600.128418   7599.615234   6695.641113   7525.128418   7611.025879   \n",
       "\n",
       "       ...  POW.F8.Alpha  POW.F8.BetaL  POW.F8.BetaH  POW.F8.Gamma  \\\n",
       "count  ...  68831.000000  68831.000000  68831.000000  68831.000000   \n",
       "mean   ...      5.386578      2.847343      1.356892      0.770303   \n",
       "std    ...     42.886793     36.480798     17.930204      8.991064   \n",
       "min    ...      0.051299      0.036999      0.062924      0.043833   \n",
       "25%    ...      1.093447      0.619023      0.340121      0.166746   \n",
       "50%    ...      1.921246      1.032671      0.612935      0.366483   \n",
       "75%    ...      3.587066      1.850553      1.076909      0.708885   \n",
       "max    ...   3825.365967   3803.180664   2010.126343    966.228027   \n",
       "\n",
       "       POW.AF4.Theta  POW.AF4.Alpha  POW.AF4.BetaL  POW.AF4.BetaH  \\\n",
       "count   68831.000000   68831.000000   68831.000000   68831.000000   \n",
       "mean       22.591861       8.133554       3.861532       1.520038   \n",
       "std       150.716768      51.722390      35.243356      13.153730   \n",
       "min         0.195020       0.077566       0.041230       0.056951   \n",
       "25%         1.840644       0.997642       0.511406       0.284404   \n",
       "50%         3.317688       1.679386       0.833078       0.472978   \n",
       "75%         7.129672       3.035433       1.464920       0.837565   \n",
       "max      8159.436035    3092.790283    3372.114746    1347.074341   \n",
       "\n",
       "       POW.AF4.Gamma  subject_understood  \n",
       "count   68831.000000        68831.000000  \n",
       "mean        0.697575            0.789906  \n",
       "std         3.937423            0.407378  \n",
       "min         0.035907            0.000000  \n",
       "25%         0.139540            1.000000  \n",
       "50%         0.262676            1.000000  \n",
       "75%         0.516598            1.000000  \n",
       "max       331.578979            1.000000  \n",
       "\n",
       "[8 rows x 87 columns]"
      ]
     },
     "execution_count": 6,
     "metadata": {},
     "output_type": "execute_result"
    }
   ],
   "source": [
    "df.describe()"
   ]
  },
  {
   "cell_type": "markdown",
   "metadata": {},
   "source": [
    "## 2. Handling  Null Value"
   ]
  },
  {
   "cell_type": "code",
   "execution_count": 7,
   "metadata": {},
   "outputs": [
    {
     "data": {
      "text/plain": [
       "video_id              0\n",
       "subject_id            0\n",
       "EEG.AF3               0\n",
       "EEG.F7                0\n",
       "EEG.F3                0\n",
       "                     ..\n",
       "POW.AF4.Alpha         0\n",
       "POW.AF4.BetaL         0\n",
       "POW.AF4.BetaH         0\n",
       "POW.AF4.Gamma         0\n",
       "subject_understood    0\n",
       "Length: 87, dtype: int64"
      ]
     },
     "execution_count": 7,
     "metadata": {},
     "output_type": "execute_result"
    }
   ],
   "source": [
    "df.isnull().sum()"
   ]
  },
  {
   "cell_type": "markdown",
   "metadata": {},
   "source": [
    "* **No Null value is present**"
   ]
  },
  {
   "cell_type": "markdown",
   "metadata": {},
   "source": [
    "# 3. SVM"
   ]
  },
  {
   "cell_type": "code",
   "execution_count": 3,
   "metadata": {},
   "outputs": [],
   "source": [
    "x=df.iloc[:,0:-1]\n",
    "y=df.iloc[:,-1]"
   ]
  },
  {
   "cell_type": "code",
   "execution_count": 9,
   "metadata": {},
   "outputs": [
    {
     "data": {
      "text/html": [
       "<div>\n",
       "<style scoped>\n",
       "    .dataframe tbody tr th:only-of-type {\n",
       "        vertical-align: middle;\n",
       "    }\n",
       "\n",
       "    .dataframe tbody tr th {\n",
       "        vertical-align: top;\n",
       "    }\n",
       "\n",
       "    .dataframe thead th {\n",
       "        text-align: right;\n",
       "    }\n",
       "</style>\n",
       "<table border=\"1\" class=\"dataframe\">\n",
       "  <thead>\n",
       "    <tr style=\"text-align: right;\">\n",
       "      <th></th>\n",
       "      <th>video_id</th>\n",
       "      <th>subject_id</th>\n",
       "      <th>EEG.AF3</th>\n",
       "      <th>EEG.F7</th>\n",
       "      <th>EEG.F3</th>\n",
       "      <th>EEG.FC5</th>\n",
       "      <th>EEG.T7</th>\n",
       "      <th>EEG.P7</th>\n",
       "      <th>EEG.O1</th>\n",
       "      <th>EEG.O2</th>\n",
       "      <th>...</th>\n",
       "      <th>POW.F8.Theta</th>\n",
       "      <th>POW.F8.Alpha</th>\n",
       "      <th>POW.F8.BetaL</th>\n",
       "      <th>POW.F8.BetaH</th>\n",
       "      <th>POW.F8.Gamma</th>\n",
       "      <th>POW.AF4.Theta</th>\n",
       "      <th>POW.AF4.Alpha</th>\n",
       "      <th>POW.AF4.BetaL</th>\n",
       "      <th>POW.AF4.BetaH</th>\n",
       "      <th>POW.AF4.Gamma</th>\n",
       "    </tr>\n",
       "  </thead>\n",
       "  <tbody>\n",
       "    <tr>\n",
       "      <th>0</th>\n",
       "      <td>0</td>\n",
       "      <td>0</td>\n",
       "      <td>4210.641113</td>\n",
       "      <td>4179.102539</td>\n",
       "      <td>4287.948730</td>\n",
       "      <td>4235.384766</td>\n",
       "      <td>4207.948730</td>\n",
       "      <td>4165.000000</td>\n",
       "      <td>4135.897461</td>\n",
       "      <td>4170.000000</td>\n",
       "      <td>...</td>\n",
       "      <td>3.758370</td>\n",
       "      <td>1.583895</td>\n",
       "      <td>0.504567</td>\n",
       "      <td>0.471979</td>\n",
       "      <td>0.138717</td>\n",
       "      <td>1.801014</td>\n",
       "      <td>1.504794</td>\n",
       "      <td>0.258570</td>\n",
       "      <td>0.435745</td>\n",
       "      <td>0.469483</td>\n",
       "    </tr>\n",
       "    <tr>\n",
       "      <th>1</th>\n",
       "      <td>0</td>\n",
       "      <td>0</td>\n",
       "      <td>4201.025879</td>\n",
       "      <td>4188.717773</td>\n",
       "      <td>4280.128418</td>\n",
       "      <td>4236.922852</td>\n",
       "      <td>4209.615234</td>\n",
       "      <td>4152.436035</td>\n",
       "      <td>4130.128418</td>\n",
       "      <td>4149.487305</td>\n",
       "      <td>...</td>\n",
       "      <td>4.580270</td>\n",
       "      <td>1.709560</td>\n",
       "      <td>0.606587</td>\n",
       "      <td>0.527616</td>\n",
       "      <td>0.155580</td>\n",
       "      <td>1.859177</td>\n",
       "      <td>1.379617</td>\n",
       "      <td>0.317579</td>\n",
       "      <td>0.468416</td>\n",
       "      <td>0.642560</td>\n",
       "    </tr>\n",
       "    <tr>\n",
       "      <th>2</th>\n",
       "      <td>0</td>\n",
       "      <td>0</td>\n",
       "      <td>4203.205078</td>\n",
       "      <td>4182.820313</td>\n",
       "      <td>4282.820313</td>\n",
       "      <td>4231.025879</td>\n",
       "      <td>4207.820313</td>\n",
       "      <td>4172.436035</td>\n",
       "      <td>4131.538574</td>\n",
       "      <td>4147.948730</td>\n",
       "      <td>...</td>\n",
       "      <td>5.230789</td>\n",
       "      <td>1.873591</td>\n",
       "      <td>0.795834</td>\n",
       "      <td>0.565414</td>\n",
       "      <td>0.170816</td>\n",
       "      <td>2.027946</td>\n",
       "      <td>1.283876</td>\n",
       "      <td>0.441925</td>\n",
       "      <td>0.494701</td>\n",
       "      <td>0.798197</td>\n",
       "    </tr>\n",
       "    <tr>\n",
       "      <th>3</th>\n",
       "      <td>0</td>\n",
       "      <td>0</td>\n",
       "      <td>4186.538574</td>\n",
       "      <td>4168.717773</td>\n",
       "      <td>4266.794922</td>\n",
       "      <td>4229.230957</td>\n",
       "      <td>4202.179688</td>\n",
       "      <td>4155.384766</td>\n",
       "      <td>4128.333496</td>\n",
       "      <td>4151.666504</td>\n",
       "      <td>...</td>\n",
       "      <td>5.472836</td>\n",
       "      <td>2.110017</td>\n",
       "      <td>1.021118</td>\n",
       "      <td>0.579656</td>\n",
       "      <td>0.180056</td>\n",
       "      <td>2.265952</td>\n",
       "      <td>1.306188</td>\n",
       "      <td>0.616881</td>\n",
       "      <td>0.506062</td>\n",
       "      <td>0.886495</td>\n",
       "    </tr>\n",
       "    <tr>\n",
       "      <th>4</th>\n",
       "      <td>0</td>\n",
       "      <td>0</td>\n",
       "      <td>4232.436035</td>\n",
       "      <td>4216.922852</td>\n",
       "      <td>4306.922852</td>\n",
       "      <td>4270.769043</td>\n",
       "      <td>4217.436035</td>\n",
       "      <td>4166.538574</td>\n",
       "      <td>4155.897461</td>\n",
       "      <td>4162.820313</td>\n",
       "      <td>...</td>\n",
       "      <td>5.209275</td>\n",
       "      <td>2.462552</td>\n",
       "      <td>1.230984</td>\n",
       "      <td>0.573620</td>\n",
       "      <td>0.181081</td>\n",
       "      <td>2.461205</td>\n",
       "      <td>1.522420</td>\n",
       "      <td>0.822598</td>\n",
       "      <td>0.498361</td>\n",
       "      <td>0.874455</td>\n",
       "    </tr>\n",
       "    <tr>\n",
       "      <th>...</th>\n",
       "      <td>...</td>\n",
       "      <td>...</td>\n",
       "      <td>...</td>\n",
       "      <td>...</td>\n",
       "      <td>...</td>\n",
       "      <td>...</td>\n",
       "      <td>...</td>\n",
       "      <td>...</td>\n",
       "      <td>...</td>\n",
       "      <td>...</td>\n",
       "      <td>...</td>\n",
       "      <td>...</td>\n",
       "      <td>...</td>\n",
       "      <td>...</td>\n",
       "      <td>...</td>\n",
       "      <td>...</td>\n",
       "      <td>...</td>\n",
       "      <td>...</td>\n",
       "      <td>...</td>\n",
       "      <td>...</td>\n",
       "      <td>...</td>\n",
       "    </tr>\n",
       "    <tr>\n",
       "      <th>68826</th>\n",
       "      <td>10</td>\n",
       "      <td>7</td>\n",
       "      <td>4353.846191</td>\n",
       "      <td>4349.487305</td>\n",
       "      <td>4317.563965</td>\n",
       "      <td>4343.461426</td>\n",
       "      <td>4375.641113</td>\n",
       "      <td>4296.025879</td>\n",
       "      <td>4351.666504</td>\n",
       "      <td>4309.358887</td>\n",
       "      <td>...</td>\n",
       "      <td>1.829682</td>\n",
       "      <td>2.088463</td>\n",
       "      <td>0.925704</td>\n",
       "      <td>0.825126</td>\n",
       "      <td>0.576437</td>\n",
       "      <td>2.009375</td>\n",
       "      <td>3.020382</td>\n",
       "      <td>2.115835</td>\n",
       "      <td>1.735570</td>\n",
       "      <td>1.125858</td>\n",
       "    </tr>\n",
       "    <tr>\n",
       "      <th>68827</th>\n",
       "      <td>10</td>\n",
       "      <td>7</td>\n",
       "      <td>4335.769043</td>\n",
       "      <td>4326.538574</td>\n",
       "      <td>4310.641113</td>\n",
       "      <td>4331.153809</td>\n",
       "      <td>4363.333496</td>\n",
       "      <td>4297.179688</td>\n",
       "      <td>4336.025879</td>\n",
       "      <td>4282.563965</td>\n",
       "      <td>...</td>\n",
       "      <td>2.820868</td>\n",
       "      <td>1.899325</td>\n",
       "      <td>0.833753</td>\n",
       "      <td>0.786224</td>\n",
       "      <td>0.600227</td>\n",
       "      <td>2.505607</td>\n",
       "      <td>2.680849</td>\n",
       "      <td>1.971062</td>\n",
       "      <td>1.468342</td>\n",
       "      <td>1.250918</td>\n",
       "    </tr>\n",
       "    <tr>\n",
       "      <th>68828</th>\n",
       "      <td>10</td>\n",
       "      <td>7</td>\n",
       "      <td>4321.666504</td>\n",
       "      <td>4313.205078</td>\n",
       "      <td>4310.000000</td>\n",
       "      <td>4310.384766</td>\n",
       "      <td>4357.436035</td>\n",
       "      <td>4296.025879</td>\n",
       "      <td>4337.563965</td>\n",
       "      <td>4291.153809</td>\n",
       "      <td>...</td>\n",
       "      <td>4.052598</td>\n",
       "      <td>1.743110</td>\n",
       "      <td>0.789346</td>\n",
       "      <td>0.777936</td>\n",
       "      <td>0.631701</td>\n",
       "      <td>3.082165</td>\n",
       "      <td>2.443027</td>\n",
       "      <td>1.868980</td>\n",
       "      <td>1.213362</td>\n",
       "      <td>1.373250</td>\n",
       "    </tr>\n",
       "    <tr>\n",
       "      <th>68829</th>\n",
       "      <td>10</td>\n",
       "      <td>7</td>\n",
       "      <td>4334.615234</td>\n",
       "      <td>4316.666504</td>\n",
       "      <td>4318.717773</td>\n",
       "      <td>4339.102539</td>\n",
       "      <td>4370.512695</td>\n",
       "      <td>4297.436035</td>\n",
       "      <td>4333.461426</td>\n",
       "      <td>4297.051270</td>\n",
       "      <td>...</td>\n",
       "      <td>5.277864</td>\n",
       "      <td>1.603054</td>\n",
       "      <td>0.781398</td>\n",
       "      <td>0.792152</td>\n",
       "      <td>0.661582</td>\n",
       "      <td>3.607407</td>\n",
       "      <td>2.341642</td>\n",
       "      <td>1.780673</td>\n",
       "      <td>0.982586</td>\n",
       "      <td>1.449505</td>\n",
       "    </tr>\n",
       "    <tr>\n",
       "      <th>68830</th>\n",
       "      <td>10</td>\n",
       "      <td>7</td>\n",
       "      <td>4328.589844</td>\n",
       "      <td>4308.589844</td>\n",
       "      <td>4310.384766</td>\n",
       "      <td>4327.820313</td>\n",
       "      <td>4357.692383</td>\n",
       "      <td>4287.692383</td>\n",
       "      <td>4316.282227</td>\n",
       "      <td>4290.641113</td>\n",
       "      <td>...</td>\n",
       "      <td>6.116080</td>\n",
       "      <td>1.474767</td>\n",
       "      <td>0.820618</td>\n",
       "      <td>0.819320</td>\n",
       "      <td>0.675726</td>\n",
       "      <td>3.863732</td>\n",
       "      <td>2.350165</td>\n",
       "      <td>1.698847</td>\n",
       "      <td>0.801526</td>\n",
       "      <td>1.448685</td>\n",
       "    </tr>\n",
       "  </tbody>\n",
       "</table>\n",
       "<p>68831 rows × 86 columns</p>\n",
       "</div>"
      ],
      "text/plain": [
       "       video_id  subject_id      EEG.AF3       EEG.F7       EEG.F3  \\\n",
       "0             0           0  4210.641113  4179.102539  4287.948730   \n",
       "1             0           0  4201.025879  4188.717773  4280.128418   \n",
       "2             0           0  4203.205078  4182.820313  4282.820313   \n",
       "3             0           0  4186.538574  4168.717773  4266.794922   \n",
       "4             0           0  4232.436035  4216.922852  4306.922852   \n",
       "...         ...         ...          ...          ...          ...   \n",
       "68826        10           7  4353.846191  4349.487305  4317.563965   \n",
       "68827        10           7  4335.769043  4326.538574  4310.641113   \n",
       "68828        10           7  4321.666504  4313.205078  4310.000000   \n",
       "68829        10           7  4334.615234  4316.666504  4318.717773   \n",
       "68830        10           7  4328.589844  4308.589844  4310.384766   \n",
       "\n",
       "           EEG.FC5       EEG.T7       EEG.P7       EEG.O1       EEG.O2  ...  \\\n",
       "0      4235.384766  4207.948730  4165.000000  4135.897461  4170.000000  ...   \n",
       "1      4236.922852  4209.615234  4152.436035  4130.128418  4149.487305  ...   \n",
       "2      4231.025879  4207.820313  4172.436035  4131.538574  4147.948730  ...   \n",
       "3      4229.230957  4202.179688  4155.384766  4128.333496  4151.666504  ...   \n",
       "4      4270.769043  4217.436035  4166.538574  4155.897461  4162.820313  ...   \n",
       "...            ...          ...          ...          ...          ...  ...   \n",
       "68826  4343.461426  4375.641113  4296.025879  4351.666504  4309.358887  ...   \n",
       "68827  4331.153809  4363.333496  4297.179688  4336.025879  4282.563965  ...   \n",
       "68828  4310.384766  4357.436035  4296.025879  4337.563965  4291.153809  ...   \n",
       "68829  4339.102539  4370.512695  4297.436035  4333.461426  4297.051270  ...   \n",
       "68830  4327.820313  4357.692383  4287.692383  4316.282227  4290.641113  ...   \n",
       "\n",
       "       POW.F8.Theta  POW.F8.Alpha  POW.F8.BetaL  POW.F8.BetaH  POW.F8.Gamma  \\\n",
       "0          3.758370      1.583895      0.504567      0.471979      0.138717   \n",
       "1          4.580270      1.709560      0.606587      0.527616      0.155580   \n",
       "2          5.230789      1.873591      0.795834      0.565414      0.170816   \n",
       "3          5.472836      2.110017      1.021118      0.579656      0.180056   \n",
       "4          5.209275      2.462552      1.230984      0.573620      0.181081   \n",
       "...             ...           ...           ...           ...           ...   \n",
       "68826      1.829682      2.088463      0.925704      0.825126      0.576437   \n",
       "68827      2.820868      1.899325      0.833753      0.786224      0.600227   \n",
       "68828      4.052598      1.743110      0.789346      0.777936      0.631701   \n",
       "68829      5.277864      1.603054      0.781398      0.792152      0.661582   \n",
       "68830      6.116080      1.474767      0.820618      0.819320      0.675726   \n",
       "\n",
       "       POW.AF4.Theta  POW.AF4.Alpha  POW.AF4.BetaL  POW.AF4.BetaH  \\\n",
       "0           1.801014       1.504794       0.258570       0.435745   \n",
       "1           1.859177       1.379617       0.317579       0.468416   \n",
       "2           2.027946       1.283876       0.441925       0.494701   \n",
       "3           2.265952       1.306188       0.616881       0.506062   \n",
       "4           2.461205       1.522420       0.822598       0.498361   \n",
       "...              ...            ...            ...            ...   \n",
       "68826       2.009375       3.020382       2.115835       1.735570   \n",
       "68827       2.505607       2.680849       1.971062       1.468342   \n",
       "68828       3.082165       2.443027       1.868980       1.213362   \n",
       "68829       3.607407       2.341642       1.780673       0.982586   \n",
       "68830       3.863732       2.350165       1.698847       0.801526   \n",
       "\n",
       "       POW.AF4.Gamma  \n",
       "0           0.469483  \n",
       "1           0.642560  \n",
       "2           0.798197  \n",
       "3           0.886495  \n",
       "4           0.874455  \n",
       "...              ...  \n",
       "68826       1.125858  \n",
       "68827       1.250918  \n",
       "68828       1.373250  \n",
       "68829       1.449505  \n",
       "68830       1.448685  \n",
       "\n",
       "[68831 rows x 86 columns]"
      ]
     },
     "execution_count": 9,
     "metadata": {},
     "output_type": "execute_result"
    }
   ],
   "source": [
    "x"
   ]
  },
  {
   "cell_type": "code",
   "execution_count": 10,
   "metadata": {},
   "outputs": [
    {
     "data": {
      "text/plain": [
       "0        0\n",
       "1        0\n",
       "2        0\n",
       "3        0\n",
       "4        0\n",
       "        ..\n",
       "68826    1\n",
       "68827    1\n",
       "68828    1\n",
       "68829    1\n",
       "68830    1\n",
       "Name: subject_understood, Length: 68831, dtype: int64"
      ]
     },
     "execution_count": 10,
     "metadata": {},
     "output_type": "execute_result"
    }
   ],
   "source": [
    "y"
   ]
  },
  {
   "cell_type": "code",
   "execution_count": 4,
   "metadata": {},
   "outputs": [],
   "source": [
    "from sklearn.model_selection import train_test_split\n",
    "x_train,x_test,y_train,y_test=train_test_split(x,y,test_size=0.30,random_state=42)"
   ]
  },
  {
   "cell_type": "markdown",
   "metadata": {},
   "source": [
    "### 3.2 Feature Scaling"
   ]
  },
  {
   "cell_type": "code",
   "execution_count": 12,
   "metadata": {},
   "outputs": [],
   "source": [
    "from sklearn.preprocessing import StandardScaler\n",
    "sc=StandardScaler()\n",
    "x_train=sc.fit_transform(x_train)\n",
    "x_test=sc.transform(x_test)"
   ]
  },
  {
   "cell_type": "markdown",
   "metadata": {},
   "source": [
    "### 3.3 Model Train"
   ]
  },
  {
   "cell_type": "code",
   "execution_count": 13,
   "metadata": {},
   "outputs": [
    {
     "data": {
      "text/html": [
       "<style>#sk-container-id-1 {color: black;background-color: white;}#sk-container-id-1 pre{padding: 0;}#sk-container-id-1 div.sk-toggleable {background-color: white;}#sk-container-id-1 label.sk-toggleable__label {cursor: pointer;display: block;width: 100%;margin-bottom: 0;padding: 0.3em;box-sizing: border-box;text-align: center;}#sk-container-id-1 label.sk-toggleable__label-arrow:before {content: \"▸\";float: left;margin-right: 0.25em;color: #696969;}#sk-container-id-1 label.sk-toggleable__label-arrow:hover:before {color: black;}#sk-container-id-1 div.sk-estimator:hover label.sk-toggleable__label-arrow:before {color: black;}#sk-container-id-1 div.sk-toggleable__content {max-height: 0;max-width: 0;overflow: hidden;text-align: left;background-color: #f0f8ff;}#sk-container-id-1 div.sk-toggleable__content pre {margin: 0.2em;color: black;border-radius: 0.25em;background-color: #f0f8ff;}#sk-container-id-1 input.sk-toggleable__control:checked~div.sk-toggleable__content {max-height: 200px;max-width: 100%;overflow: auto;}#sk-container-id-1 input.sk-toggleable__control:checked~label.sk-toggleable__label-arrow:before {content: \"▾\";}#sk-container-id-1 div.sk-estimator input.sk-toggleable__control:checked~label.sk-toggleable__label {background-color: #d4ebff;}#sk-container-id-1 div.sk-label input.sk-toggleable__control:checked~label.sk-toggleable__label {background-color: #d4ebff;}#sk-container-id-1 input.sk-hidden--visually {border: 0;clip: rect(1px 1px 1px 1px);clip: rect(1px, 1px, 1px, 1px);height: 1px;margin: -1px;overflow: hidden;padding: 0;position: absolute;width: 1px;}#sk-container-id-1 div.sk-estimator {font-family: monospace;background-color: #f0f8ff;border: 1px dotted black;border-radius: 0.25em;box-sizing: border-box;margin-bottom: 0.5em;}#sk-container-id-1 div.sk-estimator:hover {background-color: #d4ebff;}#sk-container-id-1 div.sk-parallel-item::after {content: \"\";width: 100%;border-bottom: 1px solid gray;flex-grow: 1;}#sk-container-id-1 div.sk-label:hover label.sk-toggleable__label {background-color: #d4ebff;}#sk-container-id-1 div.sk-serial::before {content: \"\";position: absolute;border-left: 1px solid gray;box-sizing: border-box;top: 0;bottom: 0;left: 50%;z-index: 0;}#sk-container-id-1 div.sk-serial {display: flex;flex-direction: column;align-items: center;background-color: white;padding-right: 0.2em;padding-left: 0.2em;position: relative;}#sk-container-id-1 div.sk-item {position: relative;z-index: 1;}#sk-container-id-1 div.sk-parallel {display: flex;align-items: stretch;justify-content: center;background-color: white;position: relative;}#sk-container-id-1 div.sk-item::before, #sk-container-id-1 div.sk-parallel-item::before {content: \"\";position: absolute;border-left: 1px solid gray;box-sizing: border-box;top: 0;bottom: 0;left: 50%;z-index: -1;}#sk-container-id-1 div.sk-parallel-item {display: flex;flex-direction: column;z-index: 1;position: relative;background-color: white;}#sk-container-id-1 div.sk-parallel-item:first-child::after {align-self: flex-end;width: 50%;}#sk-container-id-1 div.sk-parallel-item:last-child::after {align-self: flex-start;width: 50%;}#sk-container-id-1 div.sk-parallel-item:only-child::after {width: 0;}#sk-container-id-1 div.sk-dashed-wrapped {border: 1px dashed gray;margin: 0 0.4em 0.5em 0.4em;box-sizing: border-box;padding-bottom: 0.4em;background-color: white;}#sk-container-id-1 div.sk-label label {font-family: monospace;font-weight: bold;display: inline-block;line-height: 1.2em;}#sk-container-id-1 div.sk-label-container {text-align: center;}#sk-container-id-1 div.sk-container {/* jupyter's `normalize.less` sets `[hidden] { display: none; }` but bootstrap.min.css set `[hidden] { display: none !important; }` so we also need the `!important` here to be able to override the default hidden behavior on the sphinx rendered scikit-learn.org. See: https://github.com/scikit-learn/scikit-learn/issues/21755 */display: inline-block !important;position: relative;}#sk-container-id-1 div.sk-text-repr-fallback {display: none;}</style><div id=\"sk-container-id-1\" class=\"sk-top-container\"><div class=\"sk-text-repr-fallback\"><pre>SVR()</pre><b>In a Jupyter environment, please rerun this cell to show the HTML representation or trust the notebook. <br />On GitHub, the HTML representation is unable to render, please try loading this page with nbviewer.org.</b></div><div class=\"sk-container\" hidden><div class=\"sk-item\"><div class=\"sk-estimator sk-toggleable\"><input class=\"sk-toggleable__control sk-hidden--visually\" id=\"sk-estimator-id-1\" type=\"checkbox\" checked><label for=\"sk-estimator-id-1\" class=\"sk-toggleable__label sk-toggleable__label-arrow\">SVR</label><div class=\"sk-toggleable__content\"><pre>SVR()</pre></div></div></div></div></div>"
      ],
      "text/plain": [
       "SVR()"
      ]
     },
     "execution_count": 13,
     "metadata": {},
     "output_type": "execute_result"
    }
   ],
   "source": [
    "from sklearn.svm import SVR\n",
    "regression=SVR(kernel='rbf')\n",
    "regression.fit(x_train,y_train)"
   ]
  },
  {
   "cell_type": "code",
   "execution_count": 14,
   "metadata": {},
   "outputs": [
    {
     "data": {
      "text/plain": [
       "array([0.97746707, 0.74914846, 0.12613753, ..., 1.00443318, 0.96565135,\n",
       "       0.76175015])"
      ]
     },
     "execution_count": 14,
     "metadata": {},
     "output_type": "execute_result"
    }
   ],
   "source": [
    "y_pred=regression.predict(x_test)\n",
    "y_pred"
   ]
  },
  {
   "cell_type": "code",
   "execution_count": 15,
   "metadata": {},
   "outputs": [
    {
     "name": "stdout",
     "output_type": "stream",
     "text": [
      "0.9321556465024832\n"
     ]
    }
   ],
   "source": [
    "from sklearn.metrics import r2_score\n",
    "print(r2_score(y_test,y_pred))\n"
   ]
  },
  {
   "cell_type": "markdown",
   "metadata": {},
   "source": [
    "#### Accuracy is 93.215%"
   ]
  },
  {
   "cell_type": "markdown",
   "metadata": {},
   "source": [
    "## 3.4 Hyperparameter Tuning With SVR"
   ]
  },
  {
   "cell_type": "code",
   "execution_count": 16,
   "metadata": {},
   "outputs": [],
   "source": [
    "from sklearn.model_selection import GridSearchCV\n",
    " \n",
    "# defining parameter range\n",
    "param_grid = {'C': [0.1, 1, 10, 100, 1000],\n",
    "              'gamma': [1, 0.1, 0.01, 0.001, 0.0001],\n",
    "              'kernel':['linear'],\n",
    "              'epsilon':[0.1,0.2,0.3]\n",
    "              }"
   ]
  },
  {
   "cell_type": "code",
   "execution_count": 17,
   "metadata": {},
   "outputs": [],
   "source": [
    "grid=GridSearchCV(SVR(),param_grid=param_grid,refit=True,cv=5,verbose=3)"
   ]
  },
  {
   "cell_type": "code",
   "execution_count": null,
   "metadata": {},
   "outputs": [],
   "source": [
    "grid.fit(x_train,y_train)"
   ]
  },
  {
   "cell_type": "code",
   "execution_count": null,
   "metadata": {},
   "outputs": [],
   "source": [
    "grid.best_params_"
   ]
  },
  {
   "cell_type": "code",
   "execution_count": null,
   "metadata": {},
   "outputs": [],
   "source": [
    "y_pred_2=grid.predict(x_test)\n",
    "print(r2_score(y_test,y_pred))"
   ]
  },
  {
   "attachments": {},
   "cell_type": "markdown",
   "metadata": {},
   "source": [
    "# 2. Random Forest Algo"
   ]
  },
  {
   "cell_type": "code",
   "execution_count": 5,
   "metadata": {},
   "outputs": [
    {
     "data": {
      "text/html": [
       "<style>#sk-container-id-1 {color: black;background-color: white;}#sk-container-id-1 pre{padding: 0;}#sk-container-id-1 div.sk-toggleable {background-color: white;}#sk-container-id-1 label.sk-toggleable__label {cursor: pointer;display: block;width: 100%;margin-bottom: 0;padding: 0.3em;box-sizing: border-box;text-align: center;}#sk-container-id-1 label.sk-toggleable__label-arrow:before {content: \"▸\";float: left;margin-right: 0.25em;color: #696969;}#sk-container-id-1 label.sk-toggleable__label-arrow:hover:before {color: black;}#sk-container-id-1 div.sk-estimator:hover label.sk-toggleable__label-arrow:before {color: black;}#sk-container-id-1 div.sk-toggleable__content {max-height: 0;max-width: 0;overflow: hidden;text-align: left;background-color: #f0f8ff;}#sk-container-id-1 div.sk-toggleable__content pre {margin: 0.2em;color: black;border-radius: 0.25em;background-color: #f0f8ff;}#sk-container-id-1 input.sk-toggleable__control:checked~div.sk-toggleable__content {max-height: 200px;max-width: 100%;overflow: auto;}#sk-container-id-1 input.sk-toggleable__control:checked~label.sk-toggleable__label-arrow:before {content: \"▾\";}#sk-container-id-1 div.sk-estimator input.sk-toggleable__control:checked~label.sk-toggleable__label {background-color: #d4ebff;}#sk-container-id-1 div.sk-label input.sk-toggleable__control:checked~label.sk-toggleable__label {background-color: #d4ebff;}#sk-container-id-1 input.sk-hidden--visually {border: 0;clip: rect(1px 1px 1px 1px);clip: rect(1px, 1px, 1px, 1px);height: 1px;margin: -1px;overflow: hidden;padding: 0;position: absolute;width: 1px;}#sk-container-id-1 div.sk-estimator {font-family: monospace;background-color: #f0f8ff;border: 1px dotted black;border-radius: 0.25em;box-sizing: border-box;margin-bottom: 0.5em;}#sk-container-id-1 div.sk-estimator:hover {background-color: #d4ebff;}#sk-container-id-1 div.sk-parallel-item::after {content: \"\";width: 100%;border-bottom: 1px solid gray;flex-grow: 1;}#sk-container-id-1 div.sk-label:hover label.sk-toggleable__label {background-color: #d4ebff;}#sk-container-id-1 div.sk-serial::before {content: \"\";position: absolute;border-left: 1px solid gray;box-sizing: border-box;top: 0;bottom: 0;left: 50%;z-index: 0;}#sk-container-id-1 div.sk-serial {display: flex;flex-direction: column;align-items: center;background-color: white;padding-right: 0.2em;padding-left: 0.2em;position: relative;}#sk-container-id-1 div.sk-item {position: relative;z-index: 1;}#sk-container-id-1 div.sk-parallel {display: flex;align-items: stretch;justify-content: center;background-color: white;position: relative;}#sk-container-id-1 div.sk-item::before, #sk-container-id-1 div.sk-parallel-item::before {content: \"\";position: absolute;border-left: 1px solid gray;box-sizing: border-box;top: 0;bottom: 0;left: 50%;z-index: -1;}#sk-container-id-1 div.sk-parallel-item {display: flex;flex-direction: column;z-index: 1;position: relative;background-color: white;}#sk-container-id-1 div.sk-parallel-item:first-child::after {align-self: flex-end;width: 50%;}#sk-container-id-1 div.sk-parallel-item:last-child::after {align-self: flex-start;width: 50%;}#sk-container-id-1 div.sk-parallel-item:only-child::after {width: 0;}#sk-container-id-1 div.sk-dashed-wrapped {border: 1px dashed gray;margin: 0 0.4em 0.5em 0.4em;box-sizing: border-box;padding-bottom: 0.4em;background-color: white;}#sk-container-id-1 div.sk-label label {font-family: monospace;font-weight: bold;display: inline-block;line-height: 1.2em;}#sk-container-id-1 div.sk-label-container {text-align: center;}#sk-container-id-1 div.sk-container {/* jupyter's `normalize.less` sets `[hidden] { display: none; }` but bootstrap.min.css set `[hidden] { display: none !important; }` so we also need the `!important` here to be able to override the default hidden behavior on the sphinx rendered scikit-learn.org. See: https://github.com/scikit-learn/scikit-learn/issues/21755 */display: inline-block !important;position: relative;}#sk-container-id-1 div.sk-text-repr-fallback {display: none;}</style><div id=\"sk-container-id-1\" class=\"sk-top-container\"><div class=\"sk-text-repr-fallback\"><pre>RandomForestRegressor(max_depth=5, max_features=&#x27;sqrt&#x27;, n_estimators=300,\n",
       "                      random_state=18)</pre><b>In a Jupyter environment, please rerun this cell to show the HTML representation or trust the notebook. <br />On GitHub, the HTML representation is unable to render, please try loading this page with nbviewer.org.</b></div><div class=\"sk-container\" hidden><div class=\"sk-item\"><div class=\"sk-estimator sk-toggleable\"><input class=\"sk-toggleable__control sk-hidden--visually\" id=\"sk-estimator-id-1\" type=\"checkbox\" checked><label for=\"sk-estimator-id-1\" class=\"sk-toggleable__label sk-toggleable__label-arrow\">RandomForestRegressor</label><div class=\"sk-toggleable__content\"><pre>RandomForestRegressor(max_depth=5, max_features=&#x27;sqrt&#x27;, n_estimators=300,\n",
       "                      random_state=18)</pre></div></div></div></div></div>"
      ],
      "text/plain": [
       "RandomForestRegressor(max_depth=5, max_features='sqrt', n_estimators=300,\n",
       "                      random_state=18)"
      ]
     },
     "execution_count": 5,
     "metadata": {},
     "output_type": "execute_result"
    }
   ],
   "source": [
    "from sklearn.ensemble import RandomForestRegressor\n",
    "rf = RandomForestRegressor(n_estimators = 300, max_features = 'sqrt', max_depth = 5, random_state = 18)\n",
    "rf.fit(x_train, y_train)"
   ]
  },
  {
   "cell_type": "code",
   "execution_count": 8,
   "metadata": {},
   "outputs": [],
   "source": [
    "y_pred2=rf.predict(x_test)"
   ]
  },
  {
   "cell_type": "code",
   "execution_count": 9,
   "metadata": {},
   "outputs": [
    {
     "name": "stdout",
     "output_type": "stream",
     "text": [
      "0.8230901300381779\n"
     ]
    }
   ],
   "source": [
    "from sklearn.metrics import r2_score\n",
    "print(r2_score(y_test,y_pred2))"
   ]
  },
  {
   "attachments": {},
   "cell_type": "markdown",
   "metadata": {},
   "source": [
    "* **So By Using Random Forest we get 82.30% Accuracy**"
   ]
  },
  {
   "attachments": {},
   "cell_type": "markdown",
   "metadata": {},
   "source": [
    "# 3. KNN"
   ]
  },
  {
   "cell_type": "code",
   "execution_count": 10,
   "metadata": {},
   "outputs": [],
   "source": [
    "from sklearn.neighbors import KNeighborsRegressor"
   ]
  },
  {
   "cell_type": "code",
   "execution_count": 11,
   "metadata": {},
   "outputs": [
    {
     "data": {
      "text/html": [
       "<style>#sk-container-id-2 {color: black;background-color: white;}#sk-container-id-2 pre{padding: 0;}#sk-container-id-2 div.sk-toggleable {background-color: white;}#sk-container-id-2 label.sk-toggleable__label {cursor: pointer;display: block;width: 100%;margin-bottom: 0;padding: 0.3em;box-sizing: border-box;text-align: center;}#sk-container-id-2 label.sk-toggleable__label-arrow:before {content: \"▸\";float: left;margin-right: 0.25em;color: #696969;}#sk-container-id-2 label.sk-toggleable__label-arrow:hover:before {color: black;}#sk-container-id-2 div.sk-estimator:hover label.sk-toggleable__label-arrow:before {color: black;}#sk-container-id-2 div.sk-toggleable__content {max-height: 0;max-width: 0;overflow: hidden;text-align: left;background-color: #f0f8ff;}#sk-container-id-2 div.sk-toggleable__content pre {margin: 0.2em;color: black;border-radius: 0.25em;background-color: #f0f8ff;}#sk-container-id-2 input.sk-toggleable__control:checked~div.sk-toggleable__content {max-height: 200px;max-width: 100%;overflow: auto;}#sk-container-id-2 input.sk-toggleable__control:checked~label.sk-toggleable__label-arrow:before {content: \"▾\";}#sk-container-id-2 div.sk-estimator input.sk-toggleable__control:checked~label.sk-toggleable__label {background-color: #d4ebff;}#sk-container-id-2 div.sk-label input.sk-toggleable__control:checked~label.sk-toggleable__label {background-color: #d4ebff;}#sk-container-id-2 input.sk-hidden--visually {border: 0;clip: rect(1px 1px 1px 1px);clip: rect(1px, 1px, 1px, 1px);height: 1px;margin: -1px;overflow: hidden;padding: 0;position: absolute;width: 1px;}#sk-container-id-2 div.sk-estimator {font-family: monospace;background-color: #f0f8ff;border: 1px dotted black;border-radius: 0.25em;box-sizing: border-box;margin-bottom: 0.5em;}#sk-container-id-2 div.sk-estimator:hover {background-color: #d4ebff;}#sk-container-id-2 div.sk-parallel-item::after {content: \"\";width: 100%;border-bottom: 1px solid gray;flex-grow: 1;}#sk-container-id-2 div.sk-label:hover label.sk-toggleable__label {background-color: #d4ebff;}#sk-container-id-2 div.sk-serial::before {content: \"\";position: absolute;border-left: 1px solid gray;box-sizing: border-box;top: 0;bottom: 0;left: 50%;z-index: 0;}#sk-container-id-2 div.sk-serial {display: flex;flex-direction: column;align-items: center;background-color: white;padding-right: 0.2em;padding-left: 0.2em;position: relative;}#sk-container-id-2 div.sk-item {position: relative;z-index: 1;}#sk-container-id-2 div.sk-parallel {display: flex;align-items: stretch;justify-content: center;background-color: white;position: relative;}#sk-container-id-2 div.sk-item::before, #sk-container-id-2 div.sk-parallel-item::before {content: \"\";position: absolute;border-left: 1px solid gray;box-sizing: border-box;top: 0;bottom: 0;left: 50%;z-index: -1;}#sk-container-id-2 div.sk-parallel-item {display: flex;flex-direction: column;z-index: 1;position: relative;background-color: white;}#sk-container-id-2 div.sk-parallel-item:first-child::after {align-self: flex-end;width: 50%;}#sk-container-id-2 div.sk-parallel-item:last-child::after {align-self: flex-start;width: 50%;}#sk-container-id-2 div.sk-parallel-item:only-child::after {width: 0;}#sk-container-id-2 div.sk-dashed-wrapped {border: 1px dashed gray;margin: 0 0.4em 0.5em 0.4em;box-sizing: border-box;padding-bottom: 0.4em;background-color: white;}#sk-container-id-2 div.sk-label label {font-family: monospace;font-weight: bold;display: inline-block;line-height: 1.2em;}#sk-container-id-2 div.sk-label-container {text-align: center;}#sk-container-id-2 div.sk-container {/* jupyter's `normalize.less` sets `[hidden] { display: none; }` but bootstrap.min.css set `[hidden] { display: none !important; }` so we also need the `!important` here to be able to override the default hidden behavior on the sphinx rendered scikit-learn.org. See: https://github.com/scikit-learn/scikit-learn/issues/21755 */display: inline-block !important;position: relative;}#sk-container-id-2 div.sk-text-repr-fallback {display: none;}</style><div id=\"sk-container-id-2\" class=\"sk-top-container\"><div class=\"sk-text-repr-fallback\"><pre>KNeighborsRegressor(n_neighbors=6)</pre><b>In a Jupyter environment, please rerun this cell to show the HTML representation or trust the notebook. <br />On GitHub, the HTML representation is unable to render, please try loading this page with nbviewer.org.</b></div><div class=\"sk-container\" hidden><div class=\"sk-item\"><div class=\"sk-estimator sk-toggleable\"><input class=\"sk-toggleable__control sk-hidden--visually\" id=\"sk-estimator-id-2\" type=\"checkbox\" checked><label for=\"sk-estimator-id-2\" class=\"sk-toggleable__label sk-toggleable__label-arrow\">KNeighborsRegressor</label><div class=\"sk-toggleable__content\"><pre>KNeighborsRegressor(n_neighbors=6)</pre></div></div></div></div></div>"
      ],
      "text/plain": [
       "KNeighborsRegressor(n_neighbors=6)"
      ]
     },
     "execution_count": 11,
     "metadata": {},
     "output_type": "execute_result"
    }
   ],
   "source": [
    "regression_knn=KNeighborsRegressor(n_neighbors=6,algorithm='auto')\n",
    "regression_knn.fit(x_train,y_train)"
   ]
  },
  {
   "cell_type": "code",
   "execution_count": 12,
   "metadata": {},
   "outputs": [],
   "source": [
    "y_pred3=regression_knn.predict(x_test)"
   ]
  },
  {
   "cell_type": "code",
   "execution_count": 13,
   "metadata": {},
   "outputs": [],
   "source": [
    "from sklearn.metrics import r2_score,mean_absolute_error,mean_squared_error"
   ]
  },
  {
   "cell_type": "code",
   "execution_count": 14,
   "metadata": {},
   "outputs": [
    {
     "name": "stdout",
     "output_type": "stream",
     "text": [
      "0.7871555030897534\n"
     ]
    }
   ],
   "source": [
    "print(r2_score(y_test,y_pred3))\n"
   ]
  },
  {
   "attachments": {},
   "cell_type": "markdown",
   "metadata": {},
   "source": [
    "* **By using KNN we get 78.71% Accuracy**"
   ]
  },
  {
   "cell_type": "code",
   "execution_count": 15,
   "metadata": {},
   "outputs": [
    {
     "name": "stdout",
     "output_type": "stream",
     "text": [
      "0.06765133171912834\n",
      "0.0350739843960183\n"
     ]
    }
   ],
   "source": [
    "print(mean_absolute_error(y_test,y_pred3))\n",
    "print(mean_squared_error(y_test,y_pred3))"
   ]
  },
  {
   "attachments": {},
   "cell_type": "markdown",
   "metadata": {},
   "source": [
    "# 4. XGBOOST"
   ]
  },
  {
   "cell_type": "code",
   "execution_count": 17,
   "metadata": {},
   "outputs": [],
   "source": [
    "from sklearn.ensemble import AdaBoostRegressor\n",
    "from sklearn.ensemble import GradientBoostingRegressor\n",
    "import xgboost as xb"
   ]
  },
  {
   "attachments": {},
   "cell_type": "markdown",
   "metadata": {},
   "source": [
    "### 4.1 AdaBoost"
   ]
  },
  {
   "cell_type": "code",
   "execution_count": 18,
   "metadata": {},
   "outputs": [
    {
     "data": {
      "text/html": [
       "<style>#sk-container-id-3 {color: black;background-color: white;}#sk-container-id-3 pre{padding: 0;}#sk-container-id-3 div.sk-toggleable {background-color: white;}#sk-container-id-3 label.sk-toggleable__label {cursor: pointer;display: block;width: 100%;margin-bottom: 0;padding: 0.3em;box-sizing: border-box;text-align: center;}#sk-container-id-3 label.sk-toggleable__label-arrow:before {content: \"▸\";float: left;margin-right: 0.25em;color: #696969;}#sk-container-id-3 label.sk-toggleable__label-arrow:hover:before {color: black;}#sk-container-id-3 div.sk-estimator:hover label.sk-toggleable__label-arrow:before {color: black;}#sk-container-id-3 div.sk-toggleable__content {max-height: 0;max-width: 0;overflow: hidden;text-align: left;background-color: #f0f8ff;}#sk-container-id-3 div.sk-toggleable__content pre {margin: 0.2em;color: black;border-radius: 0.25em;background-color: #f0f8ff;}#sk-container-id-3 input.sk-toggleable__control:checked~div.sk-toggleable__content {max-height: 200px;max-width: 100%;overflow: auto;}#sk-container-id-3 input.sk-toggleable__control:checked~label.sk-toggleable__label-arrow:before {content: \"▾\";}#sk-container-id-3 div.sk-estimator input.sk-toggleable__control:checked~label.sk-toggleable__label {background-color: #d4ebff;}#sk-container-id-3 div.sk-label input.sk-toggleable__control:checked~label.sk-toggleable__label {background-color: #d4ebff;}#sk-container-id-3 input.sk-hidden--visually {border: 0;clip: rect(1px 1px 1px 1px);clip: rect(1px, 1px, 1px, 1px);height: 1px;margin: -1px;overflow: hidden;padding: 0;position: absolute;width: 1px;}#sk-container-id-3 div.sk-estimator {font-family: monospace;background-color: #f0f8ff;border: 1px dotted black;border-radius: 0.25em;box-sizing: border-box;margin-bottom: 0.5em;}#sk-container-id-3 div.sk-estimator:hover {background-color: #d4ebff;}#sk-container-id-3 div.sk-parallel-item::after {content: \"\";width: 100%;border-bottom: 1px solid gray;flex-grow: 1;}#sk-container-id-3 div.sk-label:hover label.sk-toggleable__label {background-color: #d4ebff;}#sk-container-id-3 div.sk-serial::before {content: \"\";position: absolute;border-left: 1px solid gray;box-sizing: border-box;top: 0;bottom: 0;left: 50%;z-index: 0;}#sk-container-id-3 div.sk-serial {display: flex;flex-direction: column;align-items: center;background-color: white;padding-right: 0.2em;padding-left: 0.2em;position: relative;}#sk-container-id-3 div.sk-item {position: relative;z-index: 1;}#sk-container-id-3 div.sk-parallel {display: flex;align-items: stretch;justify-content: center;background-color: white;position: relative;}#sk-container-id-3 div.sk-item::before, #sk-container-id-3 div.sk-parallel-item::before {content: \"\";position: absolute;border-left: 1px solid gray;box-sizing: border-box;top: 0;bottom: 0;left: 50%;z-index: -1;}#sk-container-id-3 div.sk-parallel-item {display: flex;flex-direction: column;z-index: 1;position: relative;background-color: white;}#sk-container-id-3 div.sk-parallel-item:first-child::after {align-self: flex-end;width: 50%;}#sk-container-id-3 div.sk-parallel-item:last-child::after {align-self: flex-start;width: 50%;}#sk-container-id-3 div.sk-parallel-item:only-child::after {width: 0;}#sk-container-id-3 div.sk-dashed-wrapped {border: 1px dashed gray;margin: 0 0.4em 0.5em 0.4em;box-sizing: border-box;padding-bottom: 0.4em;background-color: white;}#sk-container-id-3 div.sk-label label {font-family: monospace;font-weight: bold;display: inline-block;line-height: 1.2em;}#sk-container-id-3 div.sk-label-container {text-align: center;}#sk-container-id-3 div.sk-container {/* jupyter's `normalize.less` sets `[hidden] { display: none; }` but bootstrap.min.css set `[hidden] { display: none !important; }` so we also need the `!important` here to be able to override the default hidden behavior on the sphinx rendered scikit-learn.org. See: https://github.com/scikit-learn/scikit-learn/issues/21755 */display: inline-block !important;position: relative;}#sk-container-id-3 div.sk-text-repr-fallback {display: none;}</style><div id=\"sk-container-id-3\" class=\"sk-top-container\"><div class=\"sk-text-repr-fallback\"><pre>AdaBoostRegressor()</pre><b>In a Jupyter environment, please rerun this cell to show the HTML representation or trust the notebook. <br />On GitHub, the HTML representation is unable to render, please try loading this page with nbviewer.org.</b></div><div class=\"sk-container\" hidden><div class=\"sk-item\"><div class=\"sk-estimator sk-toggleable\"><input class=\"sk-toggleable__control sk-hidden--visually\" id=\"sk-estimator-id-3\" type=\"checkbox\" checked><label for=\"sk-estimator-id-3\" class=\"sk-toggleable__label sk-toggleable__label-arrow\">AdaBoostRegressor</label><div class=\"sk-toggleable__content\"><pre>AdaBoostRegressor()</pre></div></div></div></div></div>"
      ],
      "text/plain": [
       "AdaBoostRegressor()"
      ]
     },
     "execution_count": 18,
     "metadata": {},
     "output_type": "execute_result"
    }
   ],
   "source": [
    "regression_ada=AdaBoostRegressor()\n",
    "regression_ada.fit(x_train,y_train)"
   ]
  },
  {
   "cell_type": "code",
   "execution_count": 19,
   "metadata": {},
   "outputs": [],
   "source": [
    "y_pred4=regression_ada.predict(x_test)"
   ]
  },
  {
   "cell_type": "code",
   "execution_count": 24,
   "metadata": {},
   "outputs": [],
   "source": [
    "from sklearn.metrics import r2_score"
   ]
  },
  {
   "cell_type": "code",
   "execution_count": 25,
   "metadata": {},
   "outputs": [
    {
     "name": "stdout",
     "output_type": "stream",
     "text": [
      "0.95586550306895\n"
     ]
    }
   ],
   "source": [
    "print(r2_score(y_test,y_pred4))\n"
   ]
  },
  {
   "attachments": {},
   "cell_type": "markdown",
   "metadata": {},
   "source": [
    "* **By Using AdaBoostRegressor We get 95.58% Accuracy**"
   ]
  },
  {
   "attachments": {},
   "cell_type": "markdown",
   "metadata": {},
   "source": [
    "## 4.2 XGBoost"
   ]
  },
  {
   "cell_type": "code",
   "execution_count": 27,
   "metadata": {},
   "outputs": [
    {
     "data": {
      "text/html": [
       "<style>#sk-container-id-4 {color: black;background-color: white;}#sk-container-id-4 pre{padding: 0;}#sk-container-id-4 div.sk-toggleable {background-color: white;}#sk-container-id-4 label.sk-toggleable__label {cursor: pointer;display: block;width: 100%;margin-bottom: 0;padding: 0.3em;box-sizing: border-box;text-align: center;}#sk-container-id-4 label.sk-toggleable__label-arrow:before {content: \"▸\";float: left;margin-right: 0.25em;color: #696969;}#sk-container-id-4 label.sk-toggleable__label-arrow:hover:before {color: black;}#sk-container-id-4 div.sk-estimator:hover label.sk-toggleable__label-arrow:before {color: black;}#sk-container-id-4 div.sk-toggleable__content {max-height: 0;max-width: 0;overflow: hidden;text-align: left;background-color: #f0f8ff;}#sk-container-id-4 div.sk-toggleable__content pre {margin: 0.2em;color: black;border-radius: 0.25em;background-color: #f0f8ff;}#sk-container-id-4 input.sk-toggleable__control:checked~div.sk-toggleable__content {max-height: 200px;max-width: 100%;overflow: auto;}#sk-container-id-4 input.sk-toggleable__control:checked~label.sk-toggleable__label-arrow:before {content: \"▾\";}#sk-container-id-4 div.sk-estimator input.sk-toggleable__control:checked~label.sk-toggleable__label {background-color: #d4ebff;}#sk-container-id-4 div.sk-label input.sk-toggleable__control:checked~label.sk-toggleable__label {background-color: #d4ebff;}#sk-container-id-4 input.sk-hidden--visually {border: 0;clip: rect(1px 1px 1px 1px);clip: rect(1px, 1px, 1px, 1px);height: 1px;margin: -1px;overflow: hidden;padding: 0;position: absolute;width: 1px;}#sk-container-id-4 div.sk-estimator {font-family: monospace;background-color: #f0f8ff;border: 1px dotted black;border-radius: 0.25em;box-sizing: border-box;margin-bottom: 0.5em;}#sk-container-id-4 div.sk-estimator:hover {background-color: #d4ebff;}#sk-container-id-4 div.sk-parallel-item::after {content: \"\";width: 100%;border-bottom: 1px solid gray;flex-grow: 1;}#sk-container-id-4 div.sk-label:hover label.sk-toggleable__label {background-color: #d4ebff;}#sk-container-id-4 div.sk-serial::before {content: \"\";position: absolute;border-left: 1px solid gray;box-sizing: border-box;top: 0;bottom: 0;left: 50%;z-index: 0;}#sk-container-id-4 div.sk-serial {display: flex;flex-direction: column;align-items: center;background-color: white;padding-right: 0.2em;padding-left: 0.2em;position: relative;}#sk-container-id-4 div.sk-item {position: relative;z-index: 1;}#sk-container-id-4 div.sk-parallel {display: flex;align-items: stretch;justify-content: center;background-color: white;position: relative;}#sk-container-id-4 div.sk-item::before, #sk-container-id-4 div.sk-parallel-item::before {content: \"\";position: absolute;border-left: 1px solid gray;box-sizing: border-box;top: 0;bottom: 0;left: 50%;z-index: -1;}#sk-container-id-4 div.sk-parallel-item {display: flex;flex-direction: column;z-index: 1;position: relative;background-color: white;}#sk-container-id-4 div.sk-parallel-item:first-child::after {align-self: flex-end;width: 50%;}#sk-container-id-4 div.sk-parallel-item:last-child::after {align-self: flex-start;width: 50%;}#sk-container-id-4 div.sk-parallel-item:only-child::after {width: 0;}#sk-container-id-4 div.sk-dashed-wrapped {border: 1px dashed gray;margin: 0 0.4em 0.5em 0.4em;box-sizing: border-box;padding-bottom: 0.4em;background-color: white;}#sk-container-id-4 div.sk-label label {font-family: monospace;font-weight: bold;display: inline-block;line-height: 1.2em;}#sk-container-id-4 div.sk-label-container {text-align: center;}#sk-container-id-4 div.sk-container {/* jupyter's `normalize.less` sets `[hidden] { display: none; }` but bootstrap.min.css set `[hidden] { display: none !important; }` so we also need the `!important` here to be able to override the default hidden behavior on the sphinx rendered scikit-learn.org. See: https://github.com/scikit-learn/scikit-learn/issues/21755 */display: inline-block !important;position: relative;}#sk-container-id-4 div.sk-text-repr-fallback {display: none;}</style><div id=\"sk-container-id-4\" class=\"sk-top-container\"><div class=\"sk-text-repr-fallback\"><pre>XGBRegressor(base_score=None, booster=None, callbacks=None,\n",
       "             colsample_bylevel=None, colsample_bynode=None,\n",
       "             colsample_bytree=None, early_stopping_rounds=None,\n",
       "             enable_categorical=False, eval_metric=None, feature_types=None,\n",
       "             gamma=None, gpu_id=None, grow_policy=None, importance_type=None,\n",
       "             interaction_constraints=None, learning_rate=None, max_bin=None,\n",
       "             max_cat_threshold=None, max_cat_to_onehot=None,\n",
       "             max_delta_step=None, max_depth=None, max_leaves=None,\n",
       "             min_child_weight=None, missing=nan, monotone_constraints=None,\n",
       "             n_estimators=100, n_jobs=None, num_parallel_tree=None,\n",
       "             predictor=None, random_state=None, ...)</pre><b>In a Jupyter environment, please rerun this cell to show the HTML representation or trust the notebook. <br />On GitHub, the HTML representation is unable to render, please try loading this page with nbviewer.org.</b></div><div class=\"sk-container\" hidden><div class=\"sk-item\"><div class=\"sk-estimator sk-toggleable\"><input class=\"sk-toggleable__control sk-hidden--visually\" id=\"sk-estimator-id-4\" type=\"checkbox\" checked><label for=\"sk-estimator-id-4\" class=\"sk-toggleable__label sk-toggleable__label-arrow\">XGBRegressor</label><div class=\"sk-toggleable__content\"><pre>XGBRegressor(base_score=None, booster=None, callbacks=None,\n",
       "             colsample_bylevel=None, colsample_bynode=None,\n",
       "             colsample_bytree=None, early_stopping_rounds=None,\n",
       "             enable_categorical=False, eval_metric=None, feature_types=None,\n",
       "             gamma=None, gpu_id=None, grow_policy=None, importance_type=None,\n",
       "             interaction_constraints=None, learning_rate=None, max_bin=None,\n",
       "             max_cat_threshold=None, max_cat_to_onehot=None,\n",
       "             max_delta_step=None, max_depth=None, max_leaves=None,\n",
       "             min_child_weight=None, missing=nan, monotone_constraints=None,\n",
       "             n_estimators=100, n_jobs=None, num_parallel_tree=None,\n",
       "             predictor=None, random_state=None, ...)</pre></div></div></div></div></div>"
      ],
      "text/plain": [
       "XGBRegressor(base_score=None, booster=None, callbacks=None,\n",
       "             colsample_bylevel=None, colsample_bynode=None,\n",
       "             colsample_bytree=None, early_stopping_rounds=None,\n",
       "             enable_categorical=False, eval_metric=None, feature_types=None,\n",
       "             gamma=None, gpu_id=None, grow_policy=None, importance_type=None,\n",
       "             interaction_constraints=None, learning_rate=None, max_bin=None,\n",
       "             max_cat_threshold=None, max_cat_to_onehot=None,\n",
       "             max_delta_step=None, max_depth=None, max_leaves=None,\n",
       "             min_child_weight=None, missing=nan, monotone_constraints=None,\n",
       "             n_estimators=100, n_jobs=None, num_parallel_tree=None,\n",
       "             predictor=None, random_state=None, ...)"
      ]
     },
     "execution_count": 27,
     "metadata": {},
     "output_type": "execute_result"
    }
   ],
   "source": [
    "regressor_xg=xb.XGBRegressor()\n",
    "regressor_xg.fit(x_train,y_train)"
   ]
  },
  {
   "cell_type": "code",
   "execution_count": 28,
   "metadata": {},
   "outputs": [],
   "source": [
    "y_pred5=regressor_xg.predict(x_test)"
   ]
  },
  {
   "cell_type": "code",
   "execution_count": 29,
   "metadata": {},
   "outputs": [
    {
     "name": "stdout",
     "output_type": "stream",
     "text": [
      "0.9990830378663655\n"
     ]
    }
   ],
   "source": [
    "print(r2_score(y_test,y_pred5))\n"
   ]
  },
  {
   "attachments": {},
   "cell_type": "markdown",
   "metadata": {},
   "source": [
    "* **By Using XgBoost We get 99.90% Accuracy**"
   ]
  },
  {
   "attachments": {},
   "cell_type": "markdown",
   "metadata": {},
   "source": [
    "# Conclusion:\n",
    "**After Analysis of EEG dataset using SVM,RF,KNN,Boosting\n",
    "XgBoost Have Highest Accuracy 99.90%**"
   ]
  },
  {
   "cell_type": "code",
   "execution_count": null,
   "metadata": {},
   "outputs": [],
   "source": []
  }
 ],
 "metadata": {
  "kernelspec": {
   "display_name": "Python 3 (ipykernel)",
   "language": "python",
   "name": "python3"
  },
  "language_info": {
   "codemirror_mode": {
    "name": "ipython",
    "version": 3
   },
   "file_extension": ".py",
   "mimetype": "text/x-python",
   "name": "python",
   "nbconvert_exporter": "python",
   "pygments_lexer": "ipython3",
   "version": "3.11.2"
  }
 },
 "nbformat": 4,
 "nbformat_minor": 2
}
