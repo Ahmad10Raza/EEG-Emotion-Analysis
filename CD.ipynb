{
 "cells": [
  {
   "cell_type": "code",
   "execution_count": 2,
   "metadata": {},
   "outputs": [
    {
     "ename": "ValueError",
     "evalue": "could not broadcast input array from shape (2,) into shape (1,)",
     "output_type": "error",
     "traceback": [
      "\u001b[0;31m---------------------------------------------------------------------------\u001b[0m",
      "\u001b[0;31mValueError\u001b[0m                                Traceback (most recent call last)",
      "\u001b[1;32m/home/blackheart/Documents/DATA SCIENCE/DS_CODE_EXERCISE/MNE/CD.ipynb Cell 1\u001b[0m in \u001b[0;36m3\n\u001b[1;32m     <a href='vscode-notebook-cell:/home/blackheart/Documents/DATA%20SCIENCE/DS_CODE_EXERCISE/MNE/CD.ipynb#W0sZmlsZQ%3D%3D?line=33'>34</a>\u001b[0m \u001b[39m# Calculate correlation dimension\u001b[39;00m\n\u001b[1;32m     <a href='vscode-notebook-cell:/home/blackheart/Documents/DATA%20SCIENCE/DS_CODE_EXERCISE/MNE/CD.ipynb#W0sZmlsZQ%3D%3D?line=34'>35</a>\u001b[0m r \u001b[39m=\u001b[39m \u001b[39m0.1\u001b[39m\n\u001b[0;32m---> <a href='vscode-notebook-cell:/home/blackheart/Documents/DATA%20SCIENCE/DS_CODE_EXERCISE/MNE/CD.ipynb#W0sZmlsZQ%3D%3D?line=35'>36</a>\u001b[0m corr_dim \u001b[39m=\u001b[39m correlation_dimension(X, r)\n\u001b[1;32m     <a href='vscode-notebook-cell:/home/blackheart/Documents/DATA%20SCIENCE/DS_CODE_EXERCISE/MNE/CD.ipynb#W0sZmlsZQ%3D%3D?line=37'>38</a>\u001b[0m \u001b[39m# Plot results\u001b[39;00m\n\u001b[1;32m     <a href='vscode-notebook-cell:/home/blackheart/Documents/DATA%20SCIENCE/DS_CODE_EXERCISE/MNE/CD.ipynb#W0sZmlsZQ%3D%3D?line=38'>39</a>\u001b[0m plt\u001b[39m.\u001b[39mplot(np\u001b[39m.\u001b[39marange(\u001b[39m1\u001b[39m,\u001b[39m10\u001b[39m), np\u001b[39m.\u001b[39mexp(corr_dim\u001b[39m*\u001b[39mnp\u001b[39m.\u001b[39mlog(np\u001b[39m.\u001b[39marange(\u001b[39m1\u001b[39m,\u001b[39m10\u001b[39m))\u001b[39m+\u001b[39mintercept), \u001b[39m'\u001b[39m\u001b[39mr--\u001b[39m\u001b[39m'\u001b[39m)\n",
      "\u001b[1;32m/home/blackheart/Documents/DATA SCIENCE/DS_CODE_EXERCISE/MNE/CD.ipynb Cell 1\u001b[0m in \u001b[0;36m1\n\u001b[1;32m     <a href='vscode-notebook-cell:/home/blackheart/Documents/DATA%20SCIENCE/DS_CODE_EXERCISE/MNE/CD.ipynb#W0sZmlsZQ%3D%3D?line=14'>15</a>\u001b[0m M \u001b[39m=\u001b[39m np\u001b[39m.\u001b[39mzeros((N\u001b[39m-\u001b[39mk,k))\n\u001b[1;32m     <a href='vscode-notebook-cell:/home/blackheart/Documents/DATA%20SCIENCE/DS_CODE_EXERCISE/MNE/CD.ipynb#W0sZmlsZQ%3D%3D?line=15'>16</a>\u001b[0m \u001b[39mfor\u001b[39;00m i \u001b[39min\u001b[39;00m \u001b[39mrange\u001b[39m(N\u001b[39m-\u001b[39mk):\n\u001b[0;32m---> <a href='vscode-notebook-cell:/home/blackheart/Documents/DATA%20SCIENCE/DS_CODE_EXERCISE/MNE/CD.ipynb#W0sZmlsZQ%3D%3D?line=16'>17</a>\u001b[0m     M[i,:] \u001b[39m=\u001b[39m X[i:i\u001b[39m+\u001b[39mk,:]\u001b[39m.\u001b[39mflatten()\n\u001b[1;32m     <a href='vscode-notebook-cell:/home/blackheart/Documents/DATA%20SCIENCE/DS_CODE_EXERCISE/MNE/CD.ipynb#W0sZmlsZQ%3D%3D?line=17'>18</a>\u001b[0m dists \u001b[39m=\u001b[39m []\n\u001b[1;32m     <a href='vscode-notebook-cell:/home/blackheart/Documents/DATA%20SCIENCE/DS_CODE_EXERCISE/MNE/CD.ipynb#W0sZmlsZQ%3D%3D?line=18'>19</a>\u001b[0m \u001b[39mfor\u001b[39;00m i \u001b[39min\u001b[39;00m \u001b[39mrange\u001b[39m(N\u001b[39m-\u001b[39mk):\n",
      "\u001b[0;31mValueError\u001b[0m: could not broadcast input array from shape (2,) into shape (1,)"
     ]
    }
   ],
   "source": [
    "import numpy as np\n",
    "from pyemd import emd\n",
    "import matplotlib.pyplot as plt\n",
    "\n",
    "def correlation_dimension(X, r):\n",
    "    N = X.shape[0]\n",
    "    D = np.zeros((N,N))\n",
    "    for i in range(N):\n",
    "        for j in range(i+1,N):\n",
    "            D[i,j] = np.linalg.norm(X[i,:]-X[j,:])\n",
    "            D[j,i] = D[i,j]\n",
    "    \n",
    "    counts = []\n",
    "    for k in range(1,10):\n",
    "        M = np.zeros((N-k,k))\n",
    "        for i in range(N-k):\n",
    "            M[i,:] = X[i:i+k,:].flatten()\n",
    "        dists = []\n",
    "        for i in range(N-k):\n",
    "            for j in range(i+1,N-k):\n",
    "                dists.append(np.linalg.norm(M[i,:]-M[j,:]))\n",
    "        dists = np.array(dists)\n",
    "        counts.append(np.sum(dists<r)/dists.shape[0])\n",
    "    counts = np.array(counts)\n",
    "    log_counts = np.log(counts)\n",
    "    log_rs = np.log(np.arange(1,10))\n",
    "    slope, intercept = np.polyfit(log_rs, log_counts, 1)\n",
    "    return slope\n",
    "\n",
    "# Example usage\n",
    "# Generate some sample data\n",
    "X = np.random.rand(100, 2)\n",
    "\n",
    "# Calculate correlation dimension\n",
    "r = 0.1\n",
    "corr_dim = correlation_dimension(X, r)\n",
    "\n",
    "# Plot results\n",
    "plt.plot(np.arange(1,10), np.exp(corr_dim*np.log(np.arange(1,10))+intercept), 'r--')\n",
    "plt.scatter(np.arange(1,10), counts)\n",
    "plt.xscale('log')\n",
    "plt.yscale('log')\n",
    "plt.xlabel('r')\n",
    "plt.ylabel('C(r)')\n",
    "plt.show()\n"
   ]
  },
  {
   "cell_type": "code",
   "execution_count": 1,
   "metadata": {},
   "outputs": [
    {
     "name": "stdout",
     "output_type": "stream",
     "text": [
      "Defaulting to user installation because normal site-packages is not writeable\n",
      "Collecting pyemd\n",
      "  Downloading pyemd-1.0.0-cp311-cp311-manylinux_2_17_x86_64.manylinux2014_x86_64.whl (666 kB)\n",
      "\u001b[2K     \u001b[38;2;114;156;31m━━━━━━━━━━━━━━━━━━━━━━━━━━━━━━━━━━━━━\u001b[0m \u001b[32m666.6/666.6 kB\u001b[0m \u001b[31m354.7 kB/s\u001b[0m eta \u001b[36m0:00:00\u001b[0mm eta \u001b[36m0:00:01\u001b[0m[36m0:00:01\u001b[0m\n",
      "\u001b[?25hRequirement already satisfied: numpy>=1.9.0 in /home/blackheart/.local/lib/python3.11/site-packages (from pyemd) (1.23.5)\n",
      "Installing collected packages: pyemd\n",
      "Successfully installed pyemd-1.0.0\n"
     ]
    }
   ],
   "source": [
    "! pip install pyemd"
   ]
  },
  {
   "cell_type": "code",
   "execution_count": 2,
   "metadata": {},
   "outputs": [
    {
     "name": "stdout",
     "output_type": "stream",
     "text": [
      "Ahmad\n"
     ]
    }
   ],
   "source": [
    "a=input(\"Enter your Name :\")\n",
    "print(a)"
   ]
  },
  {
   "cell_type": "code",
   "execution_count": null,
   "metadata": {},
   "outputs": [],
   "source": []
  }
 ],
 "metadata": {
  "kernelspec": {
   "display_name": "Python 3",
   "language": "python",
   "name": "python3"
  },
  "language_info": {
   "codemirror_mode": {
    "name": "ipython",
    "version": 3
   },
   "file_extension": ".py",
   "mimetype": "text/x-python",
   "name": "python",
   "nbconvert_exporter": "python",
   "pygments_lexer": "ipython3",
   "version": "3.11.2"
  },
  "orig_nbformat": 4
 },
 "nbformat": 4,
 "nbformat_minor": 2
}
